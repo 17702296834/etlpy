{
 "cells": [
  {
   "cell_type": "code",
   "execution_count": null,
   "metadata": {
    "collapsed": true
   },
   "outputs": [],
   "source": [
    "from repl import *"
   ]
  },
  {
   "cell_type": "raw",
   "metadata": {},
   "source": [
    "我们来抓取杭州，上海，广州这些地方的摇号数据\n",
    "使用etlpy!!!"
   ]
  },
  {
   "cell_type": "code",
   "execution_count": null,
   "metadata": {
    "collapsed": false
   },
   "outputs": [],
   "source": [
    "#深圳\n",
    "city='shenzhen'\n",
    "url='http://apply.sztb.gov.cn/apply/app/status/norm/person'\n",
    "\n",
    "#杭州\n",
    "#city='hangzhou'\n",
    "#url='http://apply.hzcb.gov.cn/apply/app/status/norm/person'\n",
    "\n",
    "#广州\n",
    "city='guangzhou'\n",
    "url='http://apply.gzjt.gov.cn/apply/norm/personQuery.html'"
   ]
  },
  {
   "cell_type": "code",
   "execution_count": null,
   "metadata": {
    "collapsed": true
   },
   "outputs": [],
   "source": [
    "post_format='pageNo={1}&issueNumber={0}&applyCode='\n",
    "post_example='pageNo=8&issueNumber=201607&applyCode='"
   ]
  },
  {
   "cell_type": "code",
   "execution_count": null,
   "metadata": {
    "collapsed": true
   },
   "outputs": [],
   "source": [
    "issue= new_spider('issue')"
   ]
  },
  {
   "cell_type": "code",
   "execution_count": null,
   "metadata": {
    "collapsed": false
   },
   "outputs": [],
   "source": [
    "_issues=issue.visit(url,post_data=post_example).py_query()('#issueNumber')\n",
    "issues= [r.text for r in _issues.children()]"
   ]
  },
  {
   "cell_type": "code",
   "execution_count": null,
   "metadata": {
    "collapsed": true
   },
   "outputs": [],
   "source": [
    "s=new_spider('list')"
   ]
  },
  {
   "cell_type": "code",
   "execution_count": null,
   "metadata": {
    "collapsed": false
   },
   "outputs": [],
   "source": [
    "s.visit(url, post_data=post_example) \\\n",
    "        .search_xpath('\\d{13}', 'id',mode='re') \\\n",
    "        .search_xpath('^杨[\\u4e00-\\u9fa5]{2}$', 'name',mode='re').accept().test().get()"
   ]
  },
  {
   "cell_type": "code",
   "execution_count": null,
   "metadata": {
    "collapsed": true
   },
   "outputs": [],
   "source": [
    "c=get_default_connector()"
   ]
  },
  {
   "cell_type": "code",
   "execution_count": null,
   "metadata": {
    "collapsed": true
   },
   "outputs": [],
   "source": [
    "t=new_task('main')"
   ]
  },
  {
   "cell_type": "code",
   "execution_count": null,
   "metadata": {
    "collapsed": false
   },
   "outputs": [],
   "source": [
    "t.clear()\n",
    "t.pyge('issue', script=issues)\n",
    "t.merge('issue:post', script=post_format, merge_with='2')\n",
    "t.addnew('url', value=url)\n",
    "t.tolist()\n",
    "t.crawler('url', selector='issue', post_data='[post]')\n",
    "t.xpath('Content:page',script='/html/head/script[2]',mode='html')\n",
    "t.html('page',mode='decode')\n",
    "t.regex('page',script=\"'\\d+'\",index=2)\n",
    "t.number('page')\n",
    "t.delete('Content post')\n",
    "t.rangege('p',max='[page]',mode='cross')\n",
    "t.merge('issue:post',script=post_format,merge_with='p')\n",
    "t.crawler('url',selector='list',post_data='[post]',new_col='issue')\n",
    "t.dbex('id',connector='mongo',table='%s_yaohao'%(city))\n",
    "t.get(etl_count=100)"
   ]
  },
  {
   "cell_type": "code",
   "execution_count": null,
   "metadata": {
    "collapsed": false
   },
   "outputs": [],
   "source": [
    "t.distribute()"
   ]
  },
  {
   "cell_type": "code",
   "execution_count": null,
   "metadata": {
    "collapsed": false
   },
   "outputs": [],
   "source": [
    "t.stop_server()"
   ]
  },
  {
   "cell_type": "code",
   "execution_count": null,
   "metadata": {
    "collapsed": true
   },
   "outputs": [],
   "source": [
    ""
   ]
  }
 ],
 "metadata": {
  "kernelspec": {
   "display_name": "Python 3",
   "language": "python",
   "name": "python3"
  },
  "language_info": {
   "codemirror_mode": {
    "name": "ipython",
    "version": 3.0
   },
   "file_extension": ".py",
   "mimetype": "text/x-python",
   "name": "python",
   "nbconvert_exporter": "python",
   "pygments_lexer": "ipython3",
   "version": "3.5.1"
  }
 },
 "nbformat": 4,
 "nbformat_minor": 0
}