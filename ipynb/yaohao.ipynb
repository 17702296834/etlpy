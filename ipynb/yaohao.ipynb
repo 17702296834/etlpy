{
 "cells": [
  {
   "cell_type": "code",
   "execution_count": 21,
   "metadata": {
    "collapsed": true
   },
   "outputs": [],
   "source": [
    "import sys"
   ]
  },
  {
   "cell_type": "code",
   "execution_count": 22,
   "metadata": {
    "collapsed": true
   },
   "outputs": [],
   "source": [
    "sys.path.insert(0,'src')"
   ]
  },
  {
   "cell_type": "code",
   "execution_count": 23,
   "metadata": {
    "collapsed": false
   },
   "outputs": [],
   "source": [
    "from repl import *"
   ]
  },
  {
   "cell_type": "raw",
   "metadata": {},
   "source": [
    "我们来抓取杭州，上海，广州这些地方的摇号数据\n",
    "使用etlpy!!!"
   ]
  },
  {
   "cell_type": "code",
   "execution_count": 43,
   "metadata": {
    "collapsed": false
   },
   "outputs": [],
   "source": [
    "#深圳\n",
    "city='shenzhen'\n",
    "url='http://apply.sztb.gov.cn/apply/app/status/norm/person'\n",
    "\n",
    "#杭州\n",
    "city='hangzhou'\n",
    "url='http://apply.hzcb.gov.cn/apply/app/status/norm/person'\n",
    "\n",
    "#广州\n",
    "#city='guangzhou'\n",
    "#url='http://apply.gzjt.gov.cn/apply/norm/personQuery.html'"
   ]
  },
  {
   "cell_type": "code",
   "execution_count": 44,
   "metadata": {
    "collapsed": true
   },
   "outputs": [],
   "source": [
    "post_format='pageNo={1}&issueNumber={0}&applyCode='\n",
    "post_example='pageNo=8&issueNumber=201607&applyCode='"
   ]
  },
  {
   "cell_type": "code",
   "execution_count": 45,
   "metadata": {
    "collapsed": false
   },
   "outputs": [],
   "source": [
    "issue= spider('issue')"
   ]
  },
  {
   "cell_type": "code",
   "execution_count": 46,
   "metadata": {
    "collapsed": false
   },
   "outputs": [],
   "source": [
    "_issues=issue.visit(url,post_data=post_example).py_query()('#issueNumber')\n",
    "issues= [r.text for r in _issues.children()]"
   ]
  },
  {
   "cell_type": "code",
   "execution_count": 47,
   "metadata": {
    "collapsed": false
   },
   "outputs": [],
   "source": [
    "s=spider('list')"
   ]
  },
  {
   "cell_type": "code",
   "execution_count": 50,
   "metadata": {
    "collapsed": false
   },
   "outputs": [
    {
     "name": "stdout",
     "output_type": "stream",
     "text": [
      "id  : /html/body/div[2]/div/div[2]/div/div/table[2]/tbody/tr[2]/td[1]\n",
      "name  : /html/body/div[2]/div/div[2]/div/div/table[2]/tbody/tr[6]/td[2]\n"
     ]
    },
    {
     "data": {
      "text/html": [
       "<div>\n",
       "<table border=\"1\" class=\"dataframe\">\n",
       "  <thead>\n",
       "    <tr style=\"text-align: right;\">\n",
       "      <th></th>\n",
       "      <th>id</th>\n",
       "      <th>name</th>\n",
       "    </tr>\n",
       "  </thead>\n",
       "  <tbody>\n",
       "    <tr>\n",
       "      <th>0</th>\n",
       "      <td>0929101590072</td>\n",
       "      <td>毛俊</td>\n",
       "    </tr>\n",
       "    <tr>\n",
       "      <th>1</th>\n",
       "      <td>0941101381223</td>\n",
       "      <td>林庆福</td>\n",
       "    </tr>\n",
       "    <tr>\n",
       "      <th>2</th>\n",
       "      <td>0944101182174</td>\n",
       "      <td>沈淑雯</td>\n",
       "    </tr>\n",
       "    <tr>\n",
       "      <th>3</th>\n",
       "      <td>0955101588457</td>\n",
       "      <td>鲁方正</td>\n",
       "    </tr>\n",
       "    <tr>\n",
       "      <th>4</th>\n",
       "      <td>0967100614980</td>\n",
       "      <td>李船青</td>\n",
       "    </tr>\n",
       "    <tr>\n",
       "      <th>5</th>\n",
       "      <td>0984100158458</td>\n",
       "      <td>俞凯青</td>\n",
       "    </tr>\n",
       "    <tr>\n",
       "      <th>6</th>\n",
       "      <td>0986100859557</td>\n",
       "      <td>李梦婕</td>\n",
       "    </tr>\n",
       "    <tr>\n",
       "      <th>7</th>\n",
       "      <td>1006100234164</td>\n",
       "      <td>姚文威</td>\n",
       "    </tr>\n",
       "    <tr>\n",
       "      <th>8</th>\n",
       "      <td>1007101012162</td>\n",
       "      <td>王涤非</td>\n",
       "    </tr>\n",
       "    <tr>\n",
       "      <th>9</th>\n",
       "      <td>1014101228154</td>\n",
       "      <td>朱丽华</td>\n",
       "    </tr>\n",
       "    <tr>\n",
       "      <th>10</th>\n",
       "      <td>1014101563447</td>\n",
       "      <td>陈艳</td>\n",
       "    </tr>\n",
       "    <tr>\n",
       "      <th>11</th>\n",
       "      <td>1026100137652</td>\n",
       "      <td>江淑芬</td>\n",
       "    </tr>\n",
       "    <tr>\n",
       "      <th>12</th>\n",
       "      <td>1030101282279</td>\n",
       "      <td>汪文科</td>\n",
       "    </tr>\n",
       "    <tr>\n",
       "      <th>13</th>\n",
       "      <td>1036100730606</td>\n",
       "      <td>蒋一鹪</td>\n",
       "    </tr>\n",
       "    <tr>\n",
       "      <th>14</th>\n",
       "      <td>1048100075962</td>\n",
       "      <td>王森元</td>\n",
       "    </tr>\n",
       "    <tr>\n",
       "      <th>15</th>\n",
       "      <td>1050100036204</td>\n",
       "      <td>朱静波</td>\n",
       "    </tr>\n",
       "  </tbody>\n",
       "</table>\n",
       "</div>"
      ],
      "text/plain": [
       "               id name\n",
       "0   0929101590072   毛俊\n",
       "1   0941101381223  林庆福\n",
       "2   0944101182174  沈淑雯\n",
       "3   0955101588457  鲁方正\n",
       "4   0967100614980  李船青\n",
       "5   0984100158458  俞凯青\n",
       "6   0986100859557  李梦婕\n",
       "7   1006100234164  姚文威\n",
       "8   1007101012162  王涤非\n",
       "9   1014101228154  朱丽华\n",
       "10  1014101563447   陈艳\n",
       "11  1026100137652  江淑芬\n",
       "12  1030101282279  汪文科\n",
       "13  1036100730606  蒋一鹪\n",
       "14  1048100075962  王森元\n",
       "15  1050100036204  朱静波"
      ]
     },
     "execution_count": 50,
     "metadata": {},
     "output_type": "execute_result"
    }
   ],
   "source": [
    "s.visit(url, post_data=post_example) \\\n",
    "        .search_xpath('\\d{13}', 'id',mode='re') \\\n",
    "        .search_xpath('^李[\\u4e00-\\u9fa5]{2}$', 'name',mode='re').accept().test().get()"
   ]
  },
  {
   "cell_type": "code",
   "execution_count": 51,
   "metadata": {
    "collapsed": true
   },
   "outputs": [],
   "source": [
    "c=get_default_connector()"
   ]
  },
  {
   "cell_type": "code",
   "execution_count": 52,
   "metadata": {
    "collapsed": false
   },
   "outputs": [],
   "source": [
    "t=task('main')"
   ]
  },
  {
   "cell_type": "code",
   "execution_count": 53,
   "metadata": {
    "collapsed": false
   },
   "outputs": [
    {
     "data": {
      "text/plain": [
       "<etl.ETLTask at 0x11779d588>"
      ]
     },
     "execution_count": 53,
     "metadata": {},
     "output_type": "execute_result"
    }
   ],
   "source": [
    "t.clear()\n",
    "t.pyge('issue', script=issues)\n",
    "t.merge('issue:post', script=post_format, merge_with='2')\n",
    "t.addnew('url', value=url)\n",
    "t.pl()\n",
    "t.crawler('url', selector='issue', post_data='[post]')\n",
    "t.xpath('Content:page',script='/html/head/script[2]',mode='html')\n",
    "t.html('page',mode='decode')\n",
    "t.regex('page',script=\"'\\d+'\",index=2)\n",
    "t.number('page')\n",
    "t.delete('Content post')\n",
    "t.rangege('p',max='[page]',mode='cross')\n",
    "t.merge('issue:post',script=post_format,merge_with='p')\n",
    "t.crawler('url',selector='list',post_data='[post]',new_col='issue')\n",
    "t.dbex('id',connector='mongo',table='%s_yaohao'%(city))"
   ]
  },
  {
   "cell_type": "code",
   "execution_count": 55,
   "metadata": {
    "collapsed": false
   },
   "outputs": [
    {
     "data": {
      "text/html": [
       "<div>\n",
       "<table border=\"1\" class=\"dataframe\">\n",
       "  <thead>\n",
       "    <tr style=\"text-align: right;\">\n",
       "      <th></th>\n",
       "      <th>id</th>\n",
       "      <th>issue</th>\n",
       "      <th>name</th>\n",
       "    </tr>\n",
       "  </thead>\n",
       "  <tbody>\n",
       "    <tr>\n",
       "      <th>0</th>\n",
       "      <td>0000100468883</td>\n",
       "      <td>201608</td>\n",
       "      <td>王丽萍</td>\n",
       "    </tr>\n",
       "    <tr>\n",
       "      <th>1</th>\n",
       "      <td>0002101560364</td>\n",
       "      <td>201608</td>\n",
       "      <td>胡晓雯</td>\n",
       "    </tr>\n",
       "    <tr>\n",
       "      <th>2</th>\n",
       "      <td>0003100656649</td>\n",
       "      <td>201608</td>\n",
       "      <td>章艺</td>\n",
       "    </tr>\n",
       "    <tr>\n",
       "      <th>3</th>\n",
       "      <td>0006100180164</td>\n",
       "      <td>201608</td>\n",
       "      <td>徐亮</td>\n",
       "    </tr>\n",
       "    <tr>\n",
       "      <th>4</th>\n",
       "      <td>0007100256162</td>\n",
       "      <td>201608</td>\n",
       "      <td>胡铖璐</td>\n",
       "    </tr>\n",
       "    <tr>\n",
       "      <th>5</th>\n",
       "      <td>0011100016017</td>\n",
       "      <td>201608</td>\n",
       "      <td>傅国荣</td>\n",
       "    </tr>\n",
       "    <tr>\n",
       "      <th>6</th>\n",
       "      <td>0016101658264</td>\n",
       "      <td>201608</td>\n",
       "      <td>张定伟</td>\n",
       "    </tr>\n",
       "    <tr>\n",
       "      <th>7</th>\n",
       "      <td>0036100328447</td>\n",
       "      <td>201608</td>\n",
       "      <td>郑恬</td>\n",
       "    </tr>\n",
       "    <tr>\n",
       "      <th>8</th>\n",
       "      <td>0051101014691</td>\n",
       "      <td>201608</td>\n",
       "      <td>江腾</td>\n",
       "    </tr>\n",
       "    <tr>\n",
       "      <th>9</th>\n",
       "      <td>0057101280585</td>\n",
       "      <td>201608</td>\n",
       "      <td>裘旦土</td>\n",
       "    </tr>\n",
       "  </tbody>\n",
       "</table>\n",
       "</div>"
      ],
      "text/plain": [
       "              id   issue name\n",
       "0  0000100468883  201608  王丽萍\n",
       "1  0002101560364  201608  胡晓雯\n",
       "2  0003100656649  201608   章艺\n",
       "3  0006100180164  201608   徐亮\n",
       "4  0007100256162  201608  胡铖璐\n",
       "5  0011100016017  201608  傅国荣\n",
       "6  0016101658264  201608  张定伟\n",
       "7  0036100328447  201608   郑恬\n",
       "8  0051101014691  201608   江腾\n",
       "9  0057101280585  201608  裘旦土"
      ]
     },
     "execution_count": 55,
     "metadata": {},
     "output_type": "execute_result"
    }
   ],
   "source": [
    "t.get()"
   ]
  },
  {
   "cell_type": "code",
   "execution_count": 35,
   "metadata": {
    "collapsed": false
   },
   "outputs": [
    {
     "name": "stdout",
     "output_type": "stream",
     "text": [
      "1, MergeTF issue:post, issue\n",
      "2, AddNewTF url, post,issue\n",
      "3, ParallelTF , post,issue,url\n",
      "4, CrawlerTF url, post,issue,url\n",
      "5, XPathTF Content:page, issue,post,url,Content\n",
      "6, HtmlTF page, issue,page,post,url,Content\n",
      "7, RegexTF page, issue,page,post,url,Content\n",
      "8, NumberTF page, issue,page,post,url,Content\n",
      "9, DeleteTF Content post, issue,page,post,url,Content\n",
      "10, RangeGE p, issue,page,url\n",
      "11, MergeTF issue:post, \n",
      "12, CrawlerTF url, \n",
      "13, DbEX id, \n"
     ]
    }
   ],
   "source": [
    "#t.check()"
   ]
  },
  {
   "cell_type": "code",
   "execution_count": null,
   "metadata": {
    "collapsed": false
   },
   "outputs": [],
   "source": [
    "t.distribute()"
   ]
  },
  {
   "cell_type": "code",
   "execution_count": null,
   "metadata": {
    "collapsed": false
   },
   "outputs": [],
   "source": [
    "t.stop_server()"
   ]
  },
  {
   "cell_type": "code",
   "execution_count": null,
   "metadata": {
    "collapsed": true
   },
   "outputs": [],
   "source": [
    ""
   ]
  }
 ],
 "metadata": {
  "kernelspec": {
   "display_name": "Python 3",
   "language": "python",
   "name": "python3"
  },
  "language_info": {
   "codemirror_mode": {
    "name": "ipython",
    "version": 3.0
   },
   "file_extension": ".py",
   "mimetype": "text/x-python",
   "name": "python",
   "nbconvert_exporter": "python",
   "pygments_lexer": "ipython3",
   "version": "3.5.1"
  }
 },
 "nbformat": 4,
 "nbformat_minor": 0
}