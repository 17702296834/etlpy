{
 "cells": [
  {
   "cell_type": "code",
   "execution_count": 10,
   "metadata": {
    "collapsed": true
   },
   "outputs": [],
   "source": [
    "from repl import *"
   ]
  },
  {
   "cell_type": "code",
   "execution_count": 11,
   "metadata": {
    "collapsed": true
   },
   "outputs": [],
   "source": [
    "tid='19597386'"
   ]
  },
  {
   "cell_type": "code",
   "execution_count": 12,
   "metadata": {
    "collapsed": false
   },
   "outputs": [],
   "source": [
    "url='https://www.zhihu.com/topic/%s/top-answers'%(tid)"
   ]
  },
  {
   "cell_type": "code",
   "execution_count": 17,
   "metadata": {
    "collapsed": false
   },
   "outputs": [
    {
     "name": "stdout",
     "output_type": "stream",
     "text": [
      "text  : /html/body/div[3]/div[1]/div/div/div[3]/div[1]/div[2]/div/div[2]/div[1]/div[5]/textarea\n"
     ]
    }
   ],
   "source": [
    "s=spider('zhihu')\n",
    "s.visit(url).great_hand(True).accept()\n",
    "s.search_xpath('大学之前你不知道披萨是什么','text')\n",
    "d=s.test().get()"
   ]
  },
  {
   "cell_type": "code",
   "execution_count": 21,
   "metadata": {
    "collapsed": false
   },
   "outputs": [
    {
     "data": {
      "text/plain": [
       "'我差点以为这个问题是我男朋友提的。<br><br>是的，在我看到这个问题之前，大概一个月前，我和男朋友去吃牛排，我要了八分熟。<br>而我是因为题主提这个问题才知道，要八分熟的牛排是土鳖是没文化。正是因为如此，心里才源源不断的涌出来温柔。<br><br>我从小家庭教育就严格，后来家庭经历变故，条件不好，所以我第一次吃牛排是在大学。我大学开始就经济独立了，可是毕竟是学生，也赚不了多少钱，吃不起贵的牛排，所以人生第一次吃牛排，也没有觉得好吃（现在想来是因为太便宜，怎么可能是好牛排）。<br>因为没觉得好吃，所以再也没有去吃过。<br><br>后来我谈了一个男朋友。<br>他爱吃牛肉，各种各样的牛肉，钟爱牛排。<br>但是因为我不喜欢，所以我们在一起之后没有吃过牛排，基本上都是我决定想吃什么，他就再找地方。<br>有一天我收到了一笔拖欠了太久我以为不会再发的稿费，四千多，感觉像一笔横财，我说我要请客，我要请你吃好牛排～!<br>于是我屁颠屁颠的拉着他找了一家很好的牛排餐厅。<br>他要了五分熟的。然后服务员问我的时候，我说，我要八分熟的（可能是电视剧看多了）……<br>他问，美味，八分熟会不会有点老？<br>我倔强地一昂头，不，我就要八分熟的。<br>然后，更糟糕的是，我选了一个，极其奇怪的酱汁。<br><br>然后我们的牛排上来了。<br>我尝了第一口，就皱了眉头。<br>心里想这特么什么玩意儿啊？就这玩意儿凭啥卖这么贵啊？<br>他问，要尝尝我的么？<br>于是他切了一小块给我尝尝。<br>那一刻我才发现原来好吃的牛排是这样的。<br><br>然后他说，美味，我觉得你那个看起来比较好吃。我可以跟你换吗？<br>我说，不用了啦，我的好难吃。<br>他说，没事，我就喜欢老一点的牛排。<br>我问真的吗？<br>他认真的点头，说真的。<br>于是我们换了个座位。我很开心的吃完了那顿饭，在心里想着，牛排原来这么好吃，下一次一定要五分熟。<br><br>写到这里我都快哭了。<br>我之前一直没去想，既然他爱吃老一点的牛排，为什么只要了五分熟。<br>而他从头到尾什么都没说。<br>没有居高临下的告诉我，点八分的牛排是土鳖，没有让我觉得尴尬，甚至看起来津津有味的吃完了我那份极其难吃的牛排。<br><br>他从小家庭富足，生活优渥，所以他知道很多我不知道的事情，但是他也从来没有因为这些事情，让我有丝毫的自卑和尴尬。<br>谢谢你。<br><br>如果你真的爱一个人的话，牛排几分熟真的重要吗？<br>你只是看着他在你眼前你就很开心啊。<br>管他牛排几分熟呢。<br>牛排又不会因为你点了奇数熟就嫁给你。<br><br><br><br>----------------分割线-----------------<br>今天早上问了他这件事。<br>女生头像是他，他用的我的照片当头像。<br>doge头像是我。<br><img data-rawwidth=\"640\" data-rawheight=\"1136\" src=\"https://pic3.zhimg.com/ec0d88da22046e76661e08df12311b8e_b.jpg\" class=\"origin_image zh-lightbox-thumb\" width=\"640\" data-original=\"https://pic3.zhimg.com/ec0d88da22046e76661e08df12311b8e_r.jpg\"><br><img data-rawwidth=\"640\" data-rawheight=\"1136\" src=\"https://pic2.zhimg.com/aae886731ad69dcebd16800ce38dc5e1_b.jpg\" class=\"origin_image zh-lightbox-thumb\" width=\"640\" data-original=\"https://pic2.zhimg.com/aae886731ad69dcebd16800ce38dc5e1_r.jpg\"><br><br><br>-----------------昏割线---------------<br>而我，堂堂一个帅气的boy，一个有真材实料的boy，既然你们都说我秀恩爱了，那我不秀都对不住你们了。<br>上合照。（突然觉得男友的隐私在我这里真廉价啊……<br><img data-rawwidth=\"720\" data-rawheight=\"831\" src=\"https://pic3.zhimg.com/19fb699ff61b0a9a2f90ea1b6367a916_b.jpg\" class=\"origin_image zh-lightbox-thumb\" width=\"720\" data-original=\"https://pic3.zhimg.com/19fb699ff61b0a9a2f90ea1b6367a916_r.jpg\"><img data-rawwidth=\"720\" data-rawheight=\"735\" src=\"https://pic4.zhimg.com/e90708daae64609741162a90db47a2b7_b.jpg\" class=\"origin_image zh-lightbox-thumb\" width=\"720\" data-original=\"https://pic4.zhimg.com/e90708daae64609741162a90db47a2b7_r.jpg\"><br><br><br><br>----------------------------------------------再一次更新的昏割线--------------------------------------------------<br>这是你们要的头像。<br><img src=\"https://pic2.zhimg.com/7f1365745a08a9bc0c412c1d33809f6d_b.jpg\" data-rawwidth=\"640\" data-rawheight=\"640\" class=\"origin_image zh-lightbox-thumb\" width=\"640\" data-original=\"https://pic2.zhimg.com/7f1365745a08a9bc0c412c1d33809f6d_r.jpg\"><br>这个答案是凌晨两点多写的。我看了这个问题，翻来覆去想这件事，睡不着，所以就爬起来用手机写了这个答案。<br>没想到会有这么多人看。<br>我曾经被大家认知是因为写文章和写书，第一次因为写完全没有修饰和加工的日常琐事被这么多人看到，也出乎我的意料。我很难过，我的人格魅力，竟然比不过我秀恩爱的人气。<br>我一个有真材实料的boy，秀恩爱并不是我的本意的。（再说一遍）<br><br>接下来是跟牛排没有关系的碎碎念，大家可以不看了。<br>谢谢大家的祝福。<br>我们比起恋人关系有时候更像朋友，跟他出去我可以不洗头不化妆，可以吐槽想吐槽的事情，可以一顿吃三碗饭还炫耀我圆滚滚的肚子。<br>我曾经因为激素长满脸痘，他也每天会对我说，“美味你好漂亮”。于是我就每天带着一张烂脸出去晃。可能是因为心理作用，痘痘真的好了。<br>他刚刚工作的时候工资特别少，我是他的好几倍，于是我们出去吃饭的时候我就去找那种便宜的店，想着给他省点钱。（因为不让他买单他会觉得伤自尊）我也就给他买买钱包啊之类的必须品给他。总之我喜欢一个人就是想给他买买买。<br>半年以后他从那个公司离职，带走公司大半员工，开了个新公司。目前收益不错，生活也暂时稳定了下来。两个人过得相对比较宽松了。<br>不知道未来会如何，但是至少这一刻，我们都努力过，<br>对于以前以为已经不会再爱人的我来说，已经足够了。<br>我已经觉得特别好了。<br><br><br>另外谢谢大家夸奖，他没有那么帅的。他只是个照骗。<br><br><br><br><br>----------------------------打广告的分割线------------------------------<br>作为一个作者<br>还是在给公举号打个广告吧<br>公举号：杨美味   ID：<b>yangmeiwei1</b><br>欢迎来找我玩欢迎来找我玩'"
      ]
     },
     "execution_count": 21,
     "metadata": {},
     "output_type": "execute_result"
    }
   ],
   "source": [
    "d.ix[0].text"
   ]
  },
  {
   "cell_type": "code",
   "execution_count": 9,
   "metadata": {
    "collapsed": true
   },
   "outputs": [],
   "source": [
    "c=get_default_connector()"
   ]
  },
  {
   "cell_type": "code",
   "execution_count": 23,
   "metadata": {
    "collapsed": false
   },
   "outputs": [
    {
     "data": {
      "text/plain": [
       "'我差点以为这个问题是我男朋友提的。 是的，在我看到这个问题之前，大概一个月前，我和男朋友去吃牛排，我要了八分熟。 而我是因为题主提这个问题才知道，要八分熟的牛排是土鳖是没文化。正是因为如此，心里才源源不断的涌出来温柔。 我从小家庭教育就严格，后来家庭经历变故，条件不好，所以我第一次吃牛排是在大学。我大学开始就经济独立了，可是毕竟是学生，也赚不了多少钱，吃不起贵的牛排，所以人生第一次吃牛排，也没有觉得好吃（现在想来是因为太便宜，怎么可能是好牛排）。 因为没觉得好吃，所以再也没有去吃过。 后来我谈了一个男朋友。 他爱吃牛肉，各种各样的牛肉，钟爱牛排。 但是因为我不喜欢，所以我们在一起之后没有吃过牛排，基本上都是我决定想吃什么，他就再找地方。 有一天我收到了一笔拖欠了太久我以为不会再发的稿费，四千多，感觉像一笔横财，我说我要请客，我要请你吃好牛排～! 于是我屁颠屁颠的拉着他找了一家很好的牛排餐厅。 他要了五分熟的。然后服务员问我的时候，我说，我要八分熟的（可能是电视剧看多了）…… 他问，美味，八分熟会不会有点老？ 我倔强地一昂头，不，我就要八分熟的。 然后，更糟糕的是，我选了一个，极其奇怪的酱汁。 然后我们的牛排上来了。 我尝了第一口，就皱了眉头。 心里想这特么什么玩意儿啊？就这玩意儿凭啥卖这么贵啊？ 他问，要尝尝我的么？ 于是他切了一小块给我尝尝。 那一刻我才发现原来好吃的牛排是这样的。 然后他说，美味，我觉得你那个看起来比较好吃。我可以跟你换吗？ 我说，不用了啦，我的好难吃。 他说，没事，我就喜欢老一点的牛排。 我问真的吗？ 他认真的点头，说真的。 于是我们换了个座位。我很开心的吃完了那顿饭，在心里想着，牛排原来这么好吃，下一次一定要五分熟。 写到这里我都快哭了。 我之前一直没去想，既然他爱吃老一点的牛排，为什么只要了五分熟。 而他从头到尾什么都没说。 没有居高临下的告诉我，点八分的牛排是土鳖，没有让我觉得尴尬，甚至看起来津津有味的吃完了我那份极其难吃的牛排。 他从小家庭富足，生活优渥，所以他知道很多我不知道的事情，但是他也从来没有因为这些事情，让我有丝毫的自卑和尴尬。 谢谢你。 如果你真的爱一个人的话，牛排几分熟真的重要吗？ 你只是看着他在你眼前你就很开心啊。 管他牛排几分熟呢。 牛排又不会因为你点了奇数熟就嫁给你。 ----------------分割线----------------- 今天早上问了他这件事。 女生头像是他，他用的我的照片当头像。 doge头像是我。 -----------------昏割线--------------- 而我，堂堂一个帅气的boy，一个有真材实料的boy，既然你们都说我秀恩爱了，那我不秀都对不住你们了。 上合照。（突然觉得男友的隐私在我这里真廉价啊…… ----------------------------------------------再一次更新的昏割线-------------------------------------------------- 这是你们要的头像。 这个答案是凌晨两点多写的。我看了这个问题，翻来覆去想这件事，睡不着，所以就爬起来用手机写了这个答案。 没想到会有这么多人看。 我曾经被大家认知是因为写文章和写书，第一次因为写完全没有修饰和加工的日常琐事被这么多人看到，也出乎我的意料。我很难过，我的人格魅力，竟然比不过我秀恩爱的人气。 我一个有真材实料的boy，秀恩爱并不是我的本意的。（再说一遍） 接下来是跟牛排没有关系的碎碎念，大家可以不看了。 谢谢大家的祝福。 我们比起恋人关系有时候更像朋友，跟他出去我可以不洗头不化妆，可以吐槽想吐槽的事情，可以一顿吃三碗饭还炫耀我圆滚滚的肚子。 我曾经因为激素长满脸痘，他也每天会对我说，“美味你好漂亮”。于是我就每天带着一张烂脸出去晃。可能是因为心理作用，痘痘真的好了。 他刚刚工作的时候工资特别少，我是他的好几倍，于是我们出去吃饭的时候我就去找那种便宜的店，想着给他省点钱。（因为不让他买单他会觉得伤自尊）我也就给他买买钱包啊之类的必须品给他。总之我喜欢一个人就是想给他买买买。 半年以后他从那个公司离职，带走公司大半员工，开了个新公司。目前收益不错，生活也暂时稳定了下来。两个人过得相对比较宽松了。 不知道未来会如何，但是至少这一刻，我们都努力过， 对于以前以为已经不会再爱人的我来说，已经足够了。 我已经觉得特别好了。 另外谢谢大家夸奖，他没有那么帅的。他只是个照骗。 ----------------------------打广告的分割线------------------------------ 作为一个作者 还是在给公举号打个广告吧 公举号：杨美味   ID： yangmeiwei1 欢迎来找我玩欢迎来找我玩'"
      ]
     },
     "execution_count": 23,
     "metadata": {},
     "output_type": "execute_result"
    }
   ],
   "source": [
    "t=task('list')\n",
    "t.rangege('id',max=50)\n",
    "t.merge('id:url',script=url+'?page={0}')\n",
    "t.delay(delay=2000)\n",
    "t.crawler('url',selector='zhihu')\n",
    "t.delete('col11_href col12')\n",
    "t.xpath('text',mode='text')\n",
    "t.dbex(connector='mongo',table='zhihu'+str(tid))\n",
    "t.get().ix[0].text"
   ]
  },
  {
   "cell_type": "code",
   "execution_count": 24,
   "metadata": {
    "collapsed": false
   },
   "outputs": [
    {
     "name": "stdout",
     "output_type": "stream",
     "text": [
      "task finished,total count is 980\n"
     ]
    }
   ],
   "source": [
    "t.execute()"
   ]
  },
  {
   "cell_type": "code",
   "execution_count": null,
   "metadata": {
    "collapsed": true
   },
   "outputs": [],
   "source": [
    "data=t.get(take=200000)"
   ]
  },
  {
   "cell_type": "code",
   "execution_count": 7,
   "metadata": {
    "collapsed": false
   },
   "outputs": [],
   "source": [
    "data.to_excel('../%s.xlsx'%tid)"
   ]
  },
  {
   "cell_type": "code",
   "execution_count": 8,
   "metadata": {
    "collapsed": false
   },
   "outputs": [],
   "source": [
    "#data.to_json('../zhihu.json')"
   ]
  },
  {
   "cell_type": "code",
   "execution_count": null,
   "metadata": {
    "collapsed": false
   },
   "outputs": [],
   "source": [
    ""
   ]
  },
  {
   "cell_type": "code",
   "execution_count": null,
   "metadata": {
    "collapsed": true
   },
   "outputs": [],
   "source": [
    ""
   ]
  }
 ],
 "metadata": {
  "kernelspec": {
   "display_name": "Python 3",
   "language": "python",
   "name": "python3"
  },
  "language_info": {
   "codemirror_mode": {
    "name": "ipython",
    "version": 3.0
   },
   "file_extension": ".py",
   "mimetype": "text/x-python",
   "name": "python",
   "nbconvert_exporter": "python",
   "pygments_lexer": "ipython3",
   "version": "3.5.1"
  }
 },
 "nbformat": 4,
 "nbformat_minor": 0
}