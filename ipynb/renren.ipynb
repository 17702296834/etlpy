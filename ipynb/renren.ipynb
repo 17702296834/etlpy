{
 "cells": [
  {
   "cell_type": "code",
   "execution_count": 1,
   "metadata": {
    "collapsed": false
   },
   "outputs": [],
   "source": [
    "from repl import *"
   ]
  },
  {
   "cell_type": "code",
   "execution_count": 2,
   "metadata": {
    "collapsed": true
   },
   "outputs": [],
   "source": [
    "headers='''\n",
    "Host: browse.renren.com\n",
    "Connection: keep-alive\n",
    "Cache-Control: max-age=0\n",
    "Upgrade-Insecure-Requests: 1\n",
    "User-Agent: Mozilla/5.0 (Macintosh; Intel Mac OS X 10_11_5) AppleWebKit/537.36 (KHTML, like Gecko) Chrome/52.0.2743.116 Safari/537.36\n",
    "Accept: text/html,application/xhtml+xml,application/xml;q=0.9,image/webp,*/*;q=0.8\n",
    "Referer: http://browse.renren.com/search.do?ref_search=searchResult_ReSearch\n",
    "Accept-Encoding: gzip, deflate, sdch\n",
    "Accept-Language: zh-CN,zh;q=0.8,en;q=0.6\n",
    "Cookie: anonymid=iqxs3arh-hus2ah; _r01_=1; wp=0; l4pager=0; XNESSESSIONID=66f26cc3c627; depovince=GW; ick_login=22fd41ee-4be1-46cf-a41c-f8af30155a20; _de=B4F0273EEBE5D47A32E0B9ADC37B4602; p=b7d146e8b3602bfed1f774e5307a26072; first_login_flag=1; t=e49887e147b5239311b6aa238930f2d72; societyguester=e49887e147b5239311b6aa238930f2d72; id=230246512; xnsid=4ff79798; ln_uact=zym_by@126.com; ln_hurl=http://hdn.xnimg.cn/photos/hdn421/20120822/2245/h_main_1Hbx_528700010b791376.jpg; jebecookies=6ab80578-c489-4085-86f5-65fc095788a8|||||; ver=7.0; loginfrom=null; jebe_key=b3f7048e-7d42-4f18-a23e-03d274b01a39%7Cd1c91d21c23af205fbde41b372732601%7C1471845601197%7C1%7C1471845633949; WebOnLineNotice_230246512=1; JSESSIONID=98F0E8F5E9341AD15393E42BF8A7E142; wp_fold=0\n",
    "'''"
   ]
  },
  {
   "cell_type": "code",
   "execution_count": 3,
   "metadata": {
    "collapsed": false
   },
   "outputs": [],
   "source": [
    "t=spider('list')"
   ]
  },
  {
   "cell_type": "code",
   "execution_count": 4,
   "metadata": {
    "collapsed": false
   },
   "outputs": [
    {
     "data": {
      "text/plain": [
       "<spider.Requests at 0x1067808d0>"
      ]
     },
     "execution_count": 4,
     "metadata": {},
     "output_type": "execute_result"
    }
   ],
   "source": [
    "t.requests.set_headers(headers)"
   ]
  },
  {
   "cell_type": "code",
   "execution_count": 5,
   "metadata": {
    "collapsed": false
   },
   "outputs": [
    {
     "data": {
      "text/plain": [
       "<spider.Requests at 0x106f20128>"
      ]
     },
     "execution_count": 5,
     "metadata": {},
     "output_type": "execute_result"
    }
   ],
   "source": [
    "ct=spider('ct')\n",
    "ct.requests.set_headers(headers)"
   ]
  },
  {
   "cell_type": "code",
   "execution_count": 6,
   "metadata": {
    "collapsed": true
   },
   "outputs": [],
   "source": [
    "url='''http://browse.renren.com/sAjax.do?ajax=1&q=%20&p=%5B%7B%22t%22%3A%22birt%22%2C%22astr%22%3A%22%E6%91%A9%E7%BE%AF%22%7D%5D&s=0&u=230246512&act=search&offset=90&sort=0'''"
   ]
  },
  {
   "cell_type": "code",
   "execution_count": 7,
   "metadata": {
    "collapsed": false
   },
   "outputs": [],
   "source": [
    "d=t.visit(url).great_hand(True).test().accept().get()"
   ]
  },
  {
   "cell_type": "code",
   "execution_count": 18,
   "metadata": {
    "collapsed": false
   },
   "outputs": [
    {
     "data": {
      "text/html": [
       "<div>\n",
       "<table border=\"1\" class=\"dataframe\">\n",
       "  <thead>\n",
       "    <tr style=\"text-align: right;\">\n",
       "      <th></th>\n",
       "      <th>col0_data-src</th>\n",
       "      <th>col10_data.name</th>\n",
       "      <th>col1_href</th>\n",
       "      <th>col2</th>\n",
       "      <th>col3_href</th>\n",
       "      <th>col5_popval</th>\n",
       "      <th>col6</th>\n",
       "      <th>col7</th>\n",
       "      <th>col8_data-common</th>\n",
       "      <th>col9_data-id</th>\n",
       "      <th>user_lively</th>\n",
       "    </tr>\n",
       "  </thead>\n",
       "  <tbody>\n",
       "    <tr>\n",
       "      <th>0</th>\n",
       "      <td>http://hd35.xiaonei.com/photos/hd35/20080708/1...</td>\n",
       "      <td>陈雷</td>\n",
       "      <td>http://www.renren.com/profile.do?ref=searchres...</td>\n",
       "      <td>陈雷</td>\n",
       "      <td>http://www.renren.com/profile.do?ref=searchres...</td>\n",
       "      <td>{\"friendNum\":333,\"popValue\":409,\"friendRank\":1...</td>\n",
       "      <td></td>\n",
       "      <td>17位共同好友</td>\n",
       "      <td>{\"uid\":225866457,\"name\":\"陈雷\"}</td>\n",
       "      <td>225866457</td>\n",
       "      <td>人气409</td>\n",
       "    </tr>\n",
       "    <tr>\n",
       "      <th>1</th>\n",
       "      <td>http://hdn.xnimg.cn/photos/hdn121/20101108/134...</td>\n",
       "      <td>江鑫</td>\n",
       "      <td>http://www.renren.com/profile.do?ref=searchres...</td>\n",
       "      <td>江鑫</td>\n",
       "      <td>http://www.renren.com/profile.do?ref=searchres...</td>\n",
       "      <td>{\"friendNum\":1002,\"popValue\":2443,\"friendRank\"...</td>\n",
       "      <td></td>\n",
       "      <td>6位共同好友</td>\n",
       "      <td>{\"uid\":228365263,\"name\":\"江鑫\"}</td>\n",
       "      <td>228365263</td>\n",
       "      <td>人气2443</td>\n",
       "    </tr>\n",
       "    <tr>\n",
       "      <th>2</th>\n",
       "      <td>http://hdn.xnimg.cn/photos/hdn121/20120518/000...</td>\n",
       "      <td>白旭晟</td>\n",
       "      <td>http://www.renren.com/profile.do?ref=searchres...</td>\n",
       "      <td>白旭晟</td>\n",
       "      <td>http://www.renren.com/profile.do?ref=searchres...</td>\n",
       "      <td>{\"friendNum\":379,\"popValue\":683,\"friendRank\":3...</td>\n",
       "      <td></td>\n",
       "      <td>17位共同好友</td>\n",
       "      <td>{\"uid\":234891747,\"name\":\"白旭晟\"}</td>\n",
       "      <td>234891747</td>\n",
       "      <td>人气683</td>\n",
       "    </tr>\n",
       "    <tr>\n",
       "      <th>3</th>\n",
       "      <td>http://hdn.xnimg.cn/photos/hdn221/20130719/033...</td>\n",
       "      <td>张晓寒</td>\n",
       "      <td>http://www.renren.com/profile.do?ref=searchres...</td>\n",
       "      <td>张晓寒</td>\n",
       "      <td>http://www.renren.com/profile.do?ref=searchres...</td>\n",
       "      <td>{\"friendNum\":418,\"popValue\":1675,\"friendRank\":...</td>\n",
       "      <td></td>\n",
       "      <td>19位共同好友</td>\n",
       "      <td>{\"uid\":237325838,\"name\":\"张晓寒\"}</td>\n",
       "      <td>237325838</td>\n",
       "      <td>人气1675</td>\n",
       "    </tr>\n",
       "    <tr>\n",
       "      <th>4</th>\n",
       "      <td>http://hdn.xnimg.cn/photos/hdn321/20120901/180...</td>\n",
       "      <td>温菲菲</td>\n",
       "      <td>http://www.renren.com/profile.do?ref=searchres...</td>\n",
       "      <td>温菲菲</td>\n",
       "      <td>http://www.renren.com/profile.do?ref=searchres...</td>\n",
       "      <td>{\"friendNum\":418,\"popValue\":1442,\"friendRank\":...</td>\n",
       "      <td></td>\n",
       "      <td>21位共同好友</td>\n",
       "      <td>{\"uid\":239373033,\"name\":\"温菲菲\"}</td>\n",
       "      <td>239373033</td>\n",
       "      <td>人气1442</td>\n",
       "    </tr>\n",
       "    <tr>\n",
       "      <th>5</th>\n",
       "      <td>http://hdn.xnimg.cn/photos/hdn221/20120924/112...</td>\n",
       "      <td>王梦雪</td>\n",
       "      <td>http://www.renren.com/profile.do?ref=searchres...</td>\n",
       "      <td>王梦雪</td>\n",
       "      <td>http://www.renren.com/profile.do?ref=searchres...</td>\n",
       "      <td>{\"friendNum\":522,\"popValue\":1449,\"friendRank\":...</td>\n",
       "      <td></td>\n",
       "      <td>15位共同好友</td>\n",
       "      <td>{\"uid\":247990337,\"name\":\"王梦雪\"}</td>\n",
       "      <td>247990337</td>\n",
       "      <td>人气1449</td>\n",
       "    </tr>\n",
       "    <tr>\n",
       "      <th>6</th>\n",
       "      <td>http://hdn.xnimg.cn/photos/hdn421/20141018/190...</td>\n",
       "      <td>刘跃 斗魂</td>\n",
       "      <td>http://www.renren.com/profile.do?ref=searchres...</td>\n",
       "      <td>刘跃 斗魂</td>\n",
       "      <td>http://www.renren.com/profile.do?ref=searchres...</td>\n",
       "      <td>{\"friendNum\":667,\"popValue\":2726,\"friendRank\":...</td>\n",
       "      <td></td>\n",
       "      <td>13位共同好友</td>\n",
       "      <td>{\"uid\":237756376,\"name\":\"刘跃 斗魂\"}</td>\n",
       "      <td>237756376</td>\n",
       "      <td>人气2726</td>\n",
       "    </tr>\n",
       "    <tr>\n",
       "      <th>7</th>\n",
       "      <td>http://hdn.xnimg.cn/photos/hdn521/20100228/204...</td>\n",
       "      <td>赵彦钦</td>\n",
       "      <td>http://www.renren.com/profile.do?ref=searchres...</td>\n",
       "      <td>赵彦钦</td>\n",
       "      <td>http://www.renren.com/profile.do?ref=searchres...</td>\n",
       "      <td>{\"friendNum\":644,\"popValue\":1993,\"friendRank\":...</td>\n",
       "      <td></td>\n",
       "      <td>16位共同好友</td>\n",
       "      <td>{\"uid\":237909151,\"name\":\"赵彦钦\"}</td>\n",
       "      <td>237909151</td>\n",
       "      <td>人气1993</td>\n",
       "    </tr>\n",
       "    <tr>\n",
       "      <th>8</th>\n",
       "      <td>http://hdn.xnimg.cn/photos/hdn411/20090503/090...</td>\n",
       "      <td>NaN</td>\n",
       "      <td>http://www.renren.com/profile.do?ref=searchres...</td>\n",
       "      <td>徐庆伦</td>\n",
       "      <td>http://www.renren.com/profile.do?ref=searchres...</td>\n",
       "      <td>{\"friendNum\":227,\"popValue\":316,\"friendRank\":2...</td>\n",
       "      <td>经历 : 北京邮电大学 山东省沂水县第一中学</td>\n",
       "      <td>NaN</td>\n",
       "      <td>NaN</td>\n",
       "      <td>NaN</td>\n",
       "      <td>人气316</td>\n",
       "    </tr>\n",
       "    <tr>\n",
       "      <th>9</th>\n",
       "      <td>http://hdn.xnimg.cn/photos/hdn421/20130413/140...</td>\n",
       "      <td>李志轩</td>\n",
       "      <td>http://www.renren.com/profile.do?ref=searchres...</td>\n",
       "      <td>李志轩</td>\n",
       "      <td>http://www.renren.com/profile.do?ref=searchres...</td>\n",
       "      <td>{\"friendNum\":365,\"popValue\":668,\"friendRank\":3...</td>\n",
       "      <td></td>\n",
       "      <td>16位共同好友</td>\n",
       "      <td>{\"uid\":235863202,\"name\":\"李志轩\"}</td>\n",
       "      <td>235863202</td>\n",
       "      <td>人气668</td>\n",
       "    </tr>\n",
       "  </tbody>\n",
       "</table>\n",
       "</div>"
      ],
      "text/plain": [
       "                                       col0_data-src col10_data.name  \\\n",
       "0  http://hd35.xiaonei.com/photos/hd35/20080708/1...              陈雷   \n",
       "1  http://hdn.xnimg.cn/photos/hdn121/20101108/134...              江鑫   \n",
       "2  http://hdn.xnimg.cn/photos/hdn121/20120518/000...             白旭晟   \n",
       "3  http://hdn.xnimg.cn/photos/hdn221/20130719/033...             张晓寒   \n",
       "4  http://hdn.xnimg.cn/photos/hdn321/20120901/180...             温菲菲   \n",
       "5  http://hdn.xnimg.cn/photos/hdn221/20120924/112...             王梦雪   \n",
       "6  http://hdn.xnimg.cn/photos/hdn421/20141018/190...           刘跃 斗魂   \n",
       "7  http://hdn.xnimg.cn/photos/hdn521/20100228/204...             赵彦钦   \n",
       "8  http://hdn.xnimg.cn/photos/hdn411/20090503/090...             NaN   \n",
       "9  http://hdn.xnimg.cn/photos/hdn421/20130413/140...             李志轩   \n",
       "\n",
       "                                           col1_href   col2  \\\n",
       "0  http://www.renren.com/profile.do?ref=searchres...     陈雷   \n",
       "1  http://www.renren.com/profile.do?ref=searchres...     江鑫   \n",
       "2  http://www.renren.com/profile.do?ref=searchres...    白旭晟   \n",
       "3  http://www.renren.com/profile.do?ref=searchres...    张晓寒   \n",
       "4  http://www.renren.com/profile.do?ref=searchres...    温菲菲   \n",
       "5  http://www.renren.com/profile.do?ref=searchres...    王梦雪   \n",
       "6  http://www.renren.com/profile.do?ref=searchres...  刘跃 斗魂   \n",
       "7  http://www.renren.com/profile.do?ref=searchres...    赵彦钦   \n",
       "8  http://www.renren.com/profile.do?ref=searchres...    徐庆伦   \n",
       "9  http://www.renren.com/profile.do?ref=searchres...    李志轩   \n",
       "\n",
       "                                           col3_href  \\\n",
       "0  http://www.renren.com/profile.do?ref=searchres...   \n",
       "1  http://www.renren.com/profile.do?ref=searchres...   \n",
       "2  http://www.renren.com/profile.do?ref=searchres...   \n",
       "3  http://www.renren.com/profile.do?ref=searchres...   \n",
       "4  http://www.renren.com/profile.do?ref=searchres...   \n",
       "5  http://www.renren.com/profile.do?ref=searchres...   \n",
       "6  http://www.renren.com/profile.do?ref=searchres...   \n",
       "7  http://www.renren.com/profile.do?ref=searchres...   \n",
       "8  http://www.renren.com/profile.do?ref=searchres...   \n",
       "9  http://www.renren.com/profile.do?ref=searchres...   \n",
       "\n",
       "                                         col5_popval                    col6  \\\n",
       "0  {\"friendNum\":333,\"popValue\":409,\"friendRank\":1...                           \n",
       "1  {\"friendNum\":1002,\"popValue\":2443,\"friendRank\"...                           \n",
       "2  {\"friendNum\":379,\"popValue\":683,\"friendRank\":3...                           \n",
       "3  {\"friendNum\":418,\"popValue\":1675,\"friendRank\":...                           \n",
       "4  {\"friendNum\":418,\"popValue\":1442,\"friendRank\":...                           \n",
       "5  {\"friendNum\":522,\"popValue\":1449,\"friendRank\":...                           \n",
       "6  {\"friendNum\":667,\"popValue\":2726,\"friendRank\":...                           \n",
       "7  {\"friendNum\":644,\"popValue\":1993,\"friendRank\":...                           \n",
       "8  {\"friendNum\":227,\"popValue\":316,\"friendRank\":2...  经历 : 北京邮电大学 山东省沂水县第一中学   \n",
       "9  {\"friendNum\":365,\"popValue\":668,\"friendRank\":3...                           \n",
       "\n",
       "      col7                  col8_data-common col9_data-id user_lively  \n",
       "0  17位共同好友     {\"uid\":225866457,\"name\":\"陈雷\"}    225866457       人气409  \n",
       "1   6位共同好友     {\"uid\":228365263,\"name\":\"江鑫\"}    228365263      人气2443  \n",
       "2  17位共同好友    {\"uid\":234891747,\"name\":\"白旭晟\"}    234891747       人气683  \n",
       "3  19位共同好友    {\"uid\":237325838,\"name\":\"张晓寒\"}    237325838      人气1675  \n",
       "4  21位共同好友    {\"uid\":239373033,\"name\":\"温菲菲\"}    239373033      人气1442  \n",
       "5  15位共同好友    {\"uid\":247990337,\"name\":\"王梦雪\"}    247990337      人气1449  \n",
       "6  13位共同好友  {\"uid\":237756376,\"name\":\"刘跃 斗魂\"}    237756376      人气2726  \n",
       "7  16位共同好友    {\"uid\":237909151,\"name\":\"赵彦钦\"}    237909151      人气1993  \n",
       "8      NaN                               NaN          NaN       人气316  \n",
       "9  16位共同好友    {\"uid\":235863202,\"name\":\"李志轩\"}    235863202       人气668  "
      ]
     },
     "execution_count": 18,
     "metadata": {},
     "output_type": "execute_result"
    }
   ],
   "source": [
    "d"
   ]
  },
  {
   "cell_type": "code",
   "execution_count": 8,
   "metadata": {
    "collapsed": true
   },
   "outputs": [],
   "source": [
    "format = 'http://browse.renren.com/sAjax.do?ajax=1&q=&p={0}&s=0&u=230246512&act=search&offset={1}&sort=0'"
   ]
  },
  {
   "cell_type": "code",
   "execution_count": 9,
   "metadata": {
    "collapsed": false
   },
   "outputs": [],
   "source": [
    "l=task('renrenlist')"
   ]
  },
  {
   "cell_type": "code",
   "execution_count": 10,
   "metadata": {
    "collapsed": true
   },
   "outputs": [],
   "source": [
    "import urllib"
   ]
  },
  {
   "cell_type": "code",
   "execution_count": 11,
   "metadata": {
    "collapsed": true
   },
   "outputs": [],
   "source": [
    "mongo =get_default_connector()"
   ]
  },
  {
   "cell_type": "code",
   "execution_count": 12,
   "metadata": {
    "collapsed": true
   },
   "outputs": [],
   "source": [
    "province='北京 上海 天津 重庆 黑龙江 吉林 辽宁 山东 山西 陕西 河北 河南 湖北 湖南 海南 江苏 江西 广东 广西 云南 贵州 四川 内蒙古 宁夏 甘肃 青海 安徽 浙江 福建 台湾 香港 澳门'"
   ]
  },
  {
   "cell_type": "code",
   "execution_count": 13,
   "metadata": {
    "collapsed": true
   },
   "outputs": [],
   "source": [
    "tp= province.split(' ')\n",
    "query_format='[{\"t\":\"birt\",\"month\":\"{1}\",\"year\":\"{0}\",\"day\":\"{2}\"},{\"prov\":\"{3}\",\"gend\":\"{4}\",\"t\":\"base\"}]'"
   ]
  },
  {
   "cell_type": "code",
   "execution_count": 14,
   "metadata": {
    "collapsed": false
   },
   "outputs": [],
   "source": [
    "b=task('birth')"
   ]
  },
  {
   "cell_type": "code",
   "execution_count": 15,
   "metadata": {
    "collapsed": false
   },
   "outputs": [
    {
     "data": {
      "text/html": [
       "<div>\n",
       "<table border=\"1\" class=\"dataframe\">\n",
       "  <thead>\n",
       "    <tr style=\"text-align: right;\">\n",
       "      <th></th>\n",
       "      <th>day</th>\n",
       "      <th>gend</th>\n",
       "      <th>month</th>\n",
       "      <th>pro</th>\n",
       "      <th>query</th>\n",
       "      <th>year</th>\n",
       "    </tr>\n",
       "  </thead>\n",
       "  <tbody>\n",
       "    <tr>\n",
       "      <th>0</th>\n",
       "      <td>1</td>\n",
       "      <td>男生</td>\n",
       "      <td>1</td>\n",
       "      <td>北京</td>\n",
       "      <td>[{\"t\":\"birt\",\"month\":\"1\",\"year\":\"1980\",\"day\":\"...</td>\n",
       "      <td>1980</td>\n",
       "    </tr>\n",
       "    <tr>\n",
       "      <th>1</th>\n",
       "      <td>1</td>\n",
       "      <td>女生</td>\n",
       "      <td>1</td>\n",
       "      <td>北京</td>\n",
       "      <td>[{\"t\":\"birt\",\"month\":\"1\",\"year\":\"1980\",\"day\":\"...</td>\n",
       "      <td>1980</td>\n",
       "    </tr>\n",
       "    <tr>\n",
       "      <th>2</th>\n",
       "      <td>2</td>\n",
       "      <td>男生</td>\n",
       "      <td>1</td>\n",
       "      <td>北京</td>\n",
       "      <td>[{\"t\":\"birt\",\"month\":\"1\",\"year\":\"1980\",\"day\":\"...</td>\n",
       "      <td>1980</td>\n",
       "    </tr>\n",
       "    <tr>\n",
       "      <th>3</th>\n",
       "      <td>2</td>\n",
       "      <td>女生</td>\n",
       "      <td>1</td>\n",
       "      <td>北京</td>\n",
       "      <td>[{\"t\":\"birt\",\"month\":\"1\",\"year\":\"1980\",\"day\":\"...</td>\n",
       "      <td>1980</td>\n",
       "    </tr>\n",
       "    <tr>\n",
       "      <th>4</th>\n",
       "      <td>3</td>\n",
       "      <td>男生</td>\n",
       "      <td>1</td>\n",
       "      <td>北京</td>\n",
       "      <td>[{\"t\":\"birt\",\"month\":\"1\",\"year\":\"1980\",\"day\":\"...</td>\n",
       "      <td>1980</td>\n",
       "    </tr>\n",
       "    <tr>\n",
       "      <th>5</th>\n",
       "      <td>3</td>\n",
       "      <td>女生</td>\n",
       "      <td>1</td>\n",
       "      <td>北京</td>\n",
       "      <td>[{\"t\":\"birt\",\"month\":\"1\",\"year\":\"1980\",\"day\":\"...</td>\n",
       "      <td>1980</td>\n",
       "    </tr>\n",
       "    <tr>\n",
       "      <th>6</th>\n",
       "      <td>4</td>\n",
       "      <td>男生</td>\n",
       "      <td>1</td>\n",
       "      <td>北京</td>\n",
       "      <td>[{\"t\":\"birt\",\"month\":\"1\",\"year\":\"1980\",\"day\":\"...</td>\n",
       "      <td>1980</td>\n",
       "    </tr>\n",
       "    <tr>\n",
       "      <th>7</th>\n",
       "      <td>4</td>\n",
       "      <td>女生</td>\n",
       "      <td>1</td>\n",
       "      <td>北京</td>\n",
       "      <td>[{\"t\":\"birt\",\"month\":\"1\",\"year\":\"1980\",\"day\":\"...</td>\n",
       "      <td>1980</td>\n",
       "    </tr>\n",
       "    <tr>\n",
       "      <th>8</th>\n",
       "      <td>5</td>\n",
       "      <td>男生</td>\n",
       "      <td>1</td>\n",
       "      <td>北京</td>\n",
       "      <td>[{\"t\":\"birt\",\"month\":\"1\",\"year\":\"1980\",\"day\":\"...</td>\n",
       "      <td>1980</td>\n",
       "    </tr>\n",
       "    <tr>\n",
       "      <th>9</th>\n",
       "      <td>5</td>\n",
       "      <td>女生</td>\n",
       "      <td>1</td>\n",
       "      <td>北京</td>\n",
       "      <td>[{\"t\":\"birt\",\"month\":\"1\",\"year\":\"1980\",\"day\":\"...</td>\n",
       "      <td>1980</td>\n",
       "    </tr>\n",
       "  </tbody>\n",
       "</table>\n",
       "</div>"
      ],
      "text/plain": [
       "   day gend  month pro                                              query  \\\n",
       "0    1   男生      1  北京  [{\"t\":\"birt\",\"month\":\"1\",\"year\":\"1980\",\"day\":\"...   \n",
       "1    1   女生      1  北京  [{\"t\":\"birt\",\"month\":\"1\",\"year\":\"1980\",\"day\":\"...   \n",
       "2    2   男生      1  北京  [{\"t\":\"birt\",\"month\":\"1\",\"year\":\"1980\",\"day\":\"...   \n",
       "3    2   女生      1  北京  [{\"t\":\"birt\",\"month\":\"1\",\"year\":\"1980\",\"day\":\"...   \n",
       "4    3   男生      1  北京  [{\"t\":\"birt\",\"month\":\"1\",\"year\":\"1980\",\"day\":\"...   \n",
       "5    3   女生      1  北京  [{\"t\":\"birt\",\"month\":\"1\",\"year\":\"1980\",\"day\":\"...   \n",
       "6    4   男生      1  北京  [{\"t\":\"birt\",\"month\":\"1\",\"year\":\"1980\",\"day\":\"...   \n",
       "7    4   女生      1  北京  [{\"t\":\"birt\",\"month\":\"1\",\"year\":\"1980\",\"day\":\"...   \n",
       "8    5   男生      1  北京  [{\"t\":\"birt\",\"month\":\"1\",\"year\":\"1980\",\"day\":\"...   \n",
       "9    5   女生      1  北京  [{\"t\":\"birt\",\"month\":\"1\",\"year\":\"1980\",\"day\":\"...   \n",
       "\n",
       "   year  \n",
       "0  1980  \n",
       "1  1980  \n",
       "2  1980  \n",
       "3  1980  \n",
       "4  1980  \n",
       "5  1980  \n",
       "6  1980  \n",
       "7  1980  \n",
       "8  1980  \n",
       "9  1980  "
      ]
     },
     "execution_count": 15,
     "metadata": {},
     "output_type": "execute_result"
    }
   ],
   "source": [
    "b.clear();\n",
    "b.pyge('pro',script=province.split(' '))\n",
    "b.rangege('year',max=2005,min=1980,mode='cross')\n",
    "b.rangege('month',max=13,min=1,mode='cross')\n",
    "b.rangege('day',max=32,min=1,mode='cross')\n",
    "b.pyge('gend',script=['男生','女生'],mode='cross')\n",
    "b.merge('year:query',script=query_format,merge_with='month day pro gend')\n",
    "b.get()"
   ]
  },
  {
   "cell_type": "code",
   "execution_count": 19,
   "metadata": {
    "collapsed": false
   },
   "outputs": [
    {
     "data": {
      "text/plain": [
       "<etl.ETLTask at 0x106780ef0>"
      ]
     },
     "execution_count": 19,
     "metadata": {},
     "output_type": "execute_result"
    }
   ],
   "source": [
    "l.clear()\n",
    "l.etlge(selector='birth')\n",
    "l.py('query:js', script=lambda x:quote(x['query']))\n",
    "l.merge('js:url',script=format,merge_with='0')\n",
    "l.pl(count_per_thread=20)\n",
    "l.crawler('url',selector='ct')\n",
    "l.xpath('Content:page',mode='html', script='//*[@id=\"resultNum\"]')\n",
    "l.number('page')\n",
    "l.delete('Content')\n",
    "l.py('page',script=lambda x:min(500,int(x['page'])))\n",
    "l.rangege('p',max='[page]',mode='cross',min=1, interval=10)\n",
    "l.merge('js:url', script=format, merge_with='p')\n",
    "l.crawler('url',selector='list',new_col='month day pro gend year')\n",
    "l.json('col5_popval',mode=etl.GENERATE_DOC)\n",
    "l.number('col7:common_friends')\n",
    "l.number('col1_href:id',index=1)\n",
    "l.delete('col1_href col3_href col5_popval col7 col9_data-id col10_data.name col8_data-common')\n",
    "l.number('user_lively')\n",
    "l.rename('col6:expr col0_data-src:head col2:name')\n",
    "l.replace('expr',script='经历 : ')\n",
    "l.dbex('id',connector='mongo',table='renren')"
   ]
  },
  {
   "cell_type": "code",
   "execution_count": null,
   "metadata": {
    "collapsed": false
   },
   "outputs": [],
   "source": [
    "l.get(etl_count=100)"
   ]
  },
  {
   "cell_type": "code",
   "execution_count": null,
   "metadata": {
    "collapsed": false
   },
   "outputs": [],
   "source": [
    "l.execute()"
   ]
  },
  {
   "cell_type": "code",
   "execution_count": null,
   "metadata": {
    "collapsed": false
   },
   "outputs": [],
   "source": [
    "l.stop_server()"
   ]
  },
  {
   "cell_type": "code",
   "execution_count": null,
   "metadata": {
    "collapsed": true
   },
   "outputs": [],
   "source": [
    ""
   ]
  },
  {
   "cell_type": "code",
   "execution_count": null,
   "metadata": {
    "collapsed": true
   },
   "outputs": [],
   "source": [
    ""
   ]
  }
 ],
 "metadata": {
  "kernelspec": {
   "display_name": "Python 3",
   "language": "python",
   "name": "python3"
  },
  "language_info": {
   "codemirror_mode": {
    "name": "ipython",
    "version": 3.0
   },
   "file_extension": ".py",
   "mimetype": "text/x-python",
   "name": "python",
   "nbconvert_exporter": "python",
   "pygments_lexer": "ipython3",
   "version": "3.5.1"
  }
 },
 "nbformat": 4,
 "nbformat_minor": 0
}