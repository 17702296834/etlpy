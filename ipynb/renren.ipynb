{
 "cells": [
  {
   "cell_type": "code",
   "execution_count": 1,
   "metadata": {
    "collapsed": false
   },
   "outputs": [],
   "source": [
    "import sys,os\n",
    "\n",
    "sys.path.insert(0,os.getcwd()+'/src')\n",
    "from repl import *"
   ]
  },
  {
   "cell_type": "code",
   "execution_count": 2,
   "metadata": {
    "collapsed": true
   },
   "outputs": [],
   "source": [
    "headers='''\n",
    "Host: browse.renren.com\n",
    "Connection: keep-alive\n",
    "Cache-Control: max-age=0\n",
    "Upgrade-Insecure-Requests: 1\n",
    "User-Agent: Mozilla/5.0 (Macintosh; Intel Mac OS X 10_11_5) AppleWebKit/537.36 (KHTML, like Gecko) Chrome/52.0.2743.116 Safari/537.36\n",
    "Accept: text/html,application/xhtml+xml,application/xml;q=0.9,image/webp,*/*;q=0.8\n",
    "Referer: http://browse.renren.com/search.do?ref_search=searchResult_ReSearch\n",
    "Accept-Encoding: gzip, deflate, sdch\n",
    "Accept-Language: zh-CN,zh;q=0.8,en;q=0.6\n",
    "Cookie: anonymid=iqxs3arh-hus2ah; _r01_=1; wp=0; l4pager=0; XNESSESSIONID=66f26cc3c627; depovince=GW; ick_login=22fd41ee-4be1-46cf-a41c-f8af30155a20; _de=B4F0273EEBE5D47A32E0B9ADC37B4602; p=b7d146e8b3602bfed1f774e5307a26072; first_login_flag=1; t=e49887e147b5239311b6aa238930f2d72; societyguester=e49887e147b5239311b6aa238930f2d72; id=230246512; xnsid=4ff79798; ln_uact=zym_by@126.com; ln_hurl=http://hdn.xnimg.cn/photos/hdn421/20120822/2245/h_main_1Hbx_528700010b791376.jpg; jebecookies=6ab80578-c489-4085-86f5-65fc095788a8|||||; ver=7.0; loginfrom=null; jebe_key=b3f7048e-7d42-4f18-a23e-03d274b01a39%7Cd1c91d21c23af205fbde41b372732601%7C1471845601197%7C1%7C1471845633949; WebOnLineNotice_230246512=1; JSESSIONID=98F0E8F5E9341AD15393E42BF8A7E142; wp_fold=0\n",
    "'''"
   ]
  },
  {
   "cell_type": "code",
   "execution_count": 3,
   "metadata": {
    "collapsed": true
   },
   "outputs": [],
   "source": [
    "url='''http://browse.renren.com/sAjax.do?ajax=1&q=%20&p=%5B%7B%22t%22%3A%22birt%22%2C%22astr%22%3A%22%E6%91%A9%E7%BE%AF%22%7D%5D&s=0&u=230246512&act=search&offset=90&sort=0'''"
   ]
  },
  {
   "cell_type": "code",
   "execution_count": 4,
   "metadata": {
    "collapsed": false
   },
   "outputs": [],
   "source": [
    "t=spider('list')"
   ]
  },
  {
   "cell_type": "code",
   "execution_count": 5,
   "metadata": {
    "collapsed": false
   },
   "outputs": [
    {
     "ename": "ImportError",
     "evalue": "No module named ipy_progressbar",
     "traceback": [
      "\u001b[0;31m---------------------------------------------------------------------------\u001b[0m",
      "\u001b[0;31mImportError\u001b[0m                               Traceback (most recent call last)",
      "\u001b[0;32m<ipython-input-5-f09cecf420e6>\u001b[0m in \u001b[0;36m<module>\u001b[0;34m()\u001b[0m\n\u001b[0;32m----> 1\u001b[0;31m \u001b[0mt\u001b[0m\u001b[0;34m.\u001b[0m\u001b[0mvisit\u001b[0m\u001b[0;34m(\u001b[0m\u001b[0murl\u001b[0m\u001b[0;34m)\u001b[0m\u001b[0;34m.\u001b[0m\u001b[0mgreat_hand\u001b[0m\u001b[0;34m(\u001b[0m\u001b[0mTrue\u001b[0m\u001b[0;34m)\u001b[0m\u001b[0;34m.\u001b[0m\u001b[0mtest\u001b[0m\u001b[0;34m(\u001b[0m\u001b[0;34m)\u001b[0m\u001b[0;34m.\u001b[0m\u001b[0maccept\u001b[0m\u001b[0;34m(\u001b[0m\u001b[0;34m)\u001b[0m\u001b[0;34m.\u001b[0m\u001b[0mget\u001b[0m\u001b[0;34m(\u001b[0m\u001b[0;34m)\u001b[0m\u001b[0;34m\u001b[0m\u001b[0m\n\u001b[0m",
      "\u001b[0;32m/Users/zhaoyiming/dev/etlpy/src/spider.pyc\u001b[0m in \u001b[0;36mget\u001b[0;34m(self, format)\u001b[0m\n\u001b[1;32m    501\u001b[0m             \u001b[0;32mprint\u001b[0m\u001b[0;34m(\u001b[0m\u001b[0mself\u001b[0m\u001b[0;34m.\u001b[0m\u001b[0mprint_xpaths\u001b[0m\u001b[0;34m(\u001b[0m\u001b[0mTrue\u001b[0m\u001b[0;34m)\u001b[0m\u001b[0;34m)\u001b[0m\u001b[0;34m\u001b[0m\u001b[0m\n\u001b[1;32m    502\u001b[0m         \u001b[0;32melse\u001b[0m \u001b[0;34m:\u001b[0m\u001b[0;34m\u001b[0m\u001b[0m\n\u001b[0;32m--> 503\u001b[0;31m             \u001b[0;32mreturn\u001b[0m \u001b[0mextends\u001b[0m\u001b[0;34m.\u001b[0m\u001b[0mget\u001b[0m\u001b[0;34m(\u001b[0m\u001b[0mself\u001b[0m\u001b[0;34m.\u001b[0m\u001b[0m_datas\u001b[0m\u001b[0;34m,\u001b[0m \u001b[0mformat\u001b[0m\u001b[0;34m)\u001b[0m\u001b[0;34m;\u001b[0m\u001b[0;34m\u001b[0m\u001b[0m\n\u001b[0m\u001b[1;32m    504\u001b[0m \u001b[0;34m\u001b[0m\u001b[0m\n\u001b[1;32m    505\u001b[0m \u001b[0;34m\u001b[0m\u001b[0m\n",
      "\u001b[0;32m/Users/zhaoyiming/dev/etlpy/src/extends.pyc\u001b[0m in \u001b[0;36mget\u001b[0;34m(generator, format, count)\u001b[0m\n\u001b[1;32m     95\u001b[0m             \u001b[0mpprint\u001b[0m\u001b[0;34m.\u001b[0m\u001b[0mpprint\u001b[0m\u001b[0;34m(\u001b[0m\u001b[0md\u001b[0m\u001b[0;34m.\u001b[0m\u001b[0mkeys\u001b[0m\u001b[0;34m(\u001b[0m\u001b[0;34m)\u001b[0m\u001b[0;34m)\u001b[0m\u001b[0;34m\u001b[0m\u001b[0m\n\u001b[1;32m     96\u001b[0m         \u001b[0;32mreturn\u001b[0m \u001b[0;34m;\u001b[0m\u001b[0;34m\u001b[0m\u001b[0m\n\u001b[0;32m---> 97\u001b[0;31m     \u001b[0mlist_datas\u001b[0m\u001b[0;34m=\u001b[0m \u001b[0mto_list\u001b[0m\u001b[0;34m(\u001b[0m\u001b[0mprogress_indicator\u001b[0m\u001b[0;34m(\u001b[0m\u001b[0mgenerator\u001b[0m\u001b[0;34m,\u001b[0m \u001b[0mcount\u001b[0m\u001b[0;34m=\u001b[0m\u001b[0mcount\u001b[0m\u001b[0;34m)\u001b[0m\u001b[0;34m,\u001b[0m \u001b[0mmax_count\u001b[0m\u001b[0;34m=\u001b[0m\u001b[0mcount\u001b[0m\u001b[0;34m)\u001b[0m\u001b[0;34m;\u001b[0m\u001b[0;34m\u001b[0m\u001b[0m\n\u001b[0m\u001b[1;32m     98\u001b[0m     \u001b[0;32mif\u001b[0m \u001b[0mis_ipynb\u001b[0m \u001b[0;32mor\u001b[0m \u001b[0mformat\u001b[0m\u001b[0;34m==\u001b[0m\u001b[0;34m'df'\u001b[0m\u001b[0;34m:\u001b[0m\u001b[0;34m\u001b[0m\u001b[0m\n\u001b[1;32m     99\u001b[0m         \u001b[0;32mfrom\u001b[0m  \u001b[0mpandas\u001b[0m \u001b[0;32mimport\u001b[0m \u001b[0mDataFrame\u001b[0m\u001b[0;34m\u001b[0m\u001b[0m\n",
      "\u001b[0;32m/Users/zhaoyiming/dev/etlpy/src/extends.pyc\u001b[0m in \u001b[0;36mto_list\u001b[0;34m(generator, max_count)\u001b[0m\n\u001b[1;32m     54\u001b[0m     \u001b[0mdatas\u001b[0m\u001b[0;34m=\u001b[0m\u001b[0;34m[\u001b[0m\u001b[0;34m]\u001b[0m\u001b[0;34m\u001b[0m\u001b[0m\n\u001b[1;32m     55\u001b[0m     \u001b[0mcount\u001b[0m \u001b[0;34m=\u001b[0m \u001b[0;36m0\u001b[0m\u001b[0;34m;\u001b[0m\u001b[0;34m\u001b[0m\u001b[0m\n\u001b[0;32m---> 56\u001b[0;31m     \u001b[0;32mfor\u001b[0m \u001b[0mr\u001b[0m \u001b[0;32min\u001b[0m \u001b[0mgenerator\u001b[0m\u001b[0;34m:\u001b[0m\u001b[0;34m\u001b[0m\u001b[0m\n\u001b[0m\u001b[1;32m     57\u001b[0m         \u001b[0mcount\u001b[0m \u001b[0;34m+=\u001b[0m \u001b[0;36m1\u001b[0m\u001b[0;34m\u001b[0m\u001b[0m\n\u001b[1;32m     58\u001b[0m         \u001b[0mdatas\u001b[0m\u001b[0;34m.\u001b[0m\u001b[0mappend\u001b[0m\u001b[0;34m(\u001b[0m\u001b[0mr\u001b[0m\u001b[0;34m)\u001b[0m\u001b[0;34m;\u001b[0m\u001b[0;34m\u001b[0m\u001b[0m\n",
      "\u001b[0;32m/Users/zhaoyiming/dev/etlpy/src/extends.pyc\u001b[0m in \u001b[0;36mprogress_indicator\u001b[0;34m(generator, title, count)\u001b[0m\n\u001b[1;32m     64\u001b[0m \u001b[0;32mdef\u001b[0m \u001b[0mprogress_indicator\u001b[0m\u001b[0;34m(\u001b[0m\u001b[0mgenerator\u001b[0m\u001b[0;34m,\u001b[0m\u001b[0mtitle\u001b[0m\u001b[0;34m=\u001b[0m\u001b[0;34m'Position Indicator'\u001b[0m\u001b[0;34m,\u001b[0m\u001b[0mcount\u001b[0m\u001b[0;34m=\u001b[0m\u001b[0;36m2000\u001b[0m\u001b[0;34m)\u001b[0m\u001b[0;34m:\u001b[0m\u001b[0;34m\u001b[0m\u001b[0m\n\u001b[1;32m     65\u001b[0m     \u001b[0;32mif\u001b[0m \u001b[0mis_ipynb\u001b[0m\u001b[0;34m:\u001b[0m\u001b[0;34m\u001b[0m\u001b[0m\n\u001b[0;32m---> 66\u001b[0;31m         \u001b[0;32mfrom\u001b[0m \u001b[0mipy_progressbar\u001b[0m \u001b[0;32mimport\u001b[0m \u001b[0mProgressBar\u001b[0m\u001b[0;34m\u001b[0m\u001b[0m\n\u001b[0m\u001b[1;32m     67\u001b[0m         \u001b[0mgenerator\u001b[0m \u001b[0;34m=\u001b[0m \u001b[0mProgressBar\u001b[0m\u001b[0;34m(\u001b[0m\u001b[0mgenerator\u001b[0m\u001b[0;34m,\u001b[0m \u001b[0mtitle\u001b[0m\u001b[0;34m=\u001b[0m\u001b[0mtitle\u001b[0m\u001b[0;34m)\u001b[0m\u001b[0;34m\u001b[0m\u001b[0m\n\u001b[1;32m     68\u001b[0m         \u001b[0mgenerator\u001b[0m\u001b[0;34m.\u001b[0m\u001b[0mmax\u001b[0m \u001b[0;34m=\u001b[0m \u001b[0mcount\u001b[0m\u001b[0;34m;\u001b[0m\u001b[0;34m\u001b[0m\u001b[0m\n",
      "\u001b[0;31mImportError\u001b[0m: No module named ipy_progressbar"
     ],
     "output_type": "error"
    }
   ],
   "source": [
    "t.visit(url).great_hand(True).test().accept().get()"
   ]
  },
  {
   "cell_type": "code",
   "execution_count": null,
   "metadata": {
    "collapsed": false
   },
   "outputs": [],
   "source": [
    "t.requests.set_headers(headers)"
   ]
  },
  {
   "cell_type": "code",
   "execution_count": 7,
   "metadata": {
    "collapsed": false
   },
   "outputs": [
    {
     "data": {
      "text/plain": [
       "<spider.Requests at 0x116b24a90>"
      ]
     },
     "execution_count": 7,
     "metadata": {},
     "output_type": "execute_result"
    }
   ],
   "source": [
    "ct=spider('ct')\n",
    "ct.requests.set_headers(headers)"
   ]
  },
  {
   "cell_type": "code",
   "execution_count": 8,
   "metadata": {
    "collapsed": true
   },
   "outputs": [],
   "source": [
    "format = 'http://browse.renren.com/sAjax.do?ajax=1&q=&p={0}&s=0&u=230246512&act=search&offset={1}&sort=0'"
   ]
  },
  {
   "cell_type": "code",
   "execution_count": 9,
   "metadata": {
    "collapsed": false
   },
   "outputs": [],
   "source": [
    "l=task('renrenlist')"
   ]
  },
  {
   "cell_type": "code",
   "execution_count": 10,
   "metadata": {
    "collapsed": true
   },
   "outputs": [],
   "source": [
    "import urllib"
   ]
  },
  {
   "cell_type": "code",
   "execution_count": 11,
   "metadata": {
    "collapsed": true
   },
   "outputs": [],
   "source": [
    "mongo =get_default_connector()"
   ]
  },
  {
   "cell_type": "code",
   "execution_count": 12,
   "metadata": {
    "collapsed": true
   },
   "outputs": [],
   "source": [
    "province='北京 上海 天津 重庆 黑龙江 吉林 辽宁 山东 山西 陕西 河北 河南 湖北 湖南 海南 江苏 江西 广东 广西 云南 贵州 四川 内蒙古 宁夏 甘肃 青海 安徽 浙江 福建 台湾 香港 澳门'"
   ]
  },
  {
   "cell_type": "code",
   "execution_count": 13,
   "metadata": {
    "collapsed": true
   },
   "outputs": [],
   "source": [
    "tp= province.split(' ')\n",
    "query_format='[{\"t\":\"birt\",\"month\":\"{1}\",\"year\":\"{0}\",\"day\":\"{2}\"},{\"prov\":\"{3}\",\"gend\":\"{4}\",\"t\":\"base\"}]'"
   ]
  },
  {
   "cell_type": "code",
   "execution_count": 14,
   "metadata": {
    "collapsed": false
   },
   "outputs": [],
   "source": [
    "b=task('birth')"
   ]
  },
  {
   "cell_type": "raw",
   "metadata": {},
   "source": [
    "b.clear();\n",
    "b.pyge('pro',script=province.split(' '))\n",
    "b.rangege('year',max=2005,min=1980,mode='cross')\n",
    "b.rangege('month',max=13,min=1,mode='cross')\n",
    "b.rangege('day',max=32,min=1,mode='cross')\n",
    "b.pyge('gend',script=['男生','女生'],mode='cross')\n",
    "b.merge('year:query',script=query_format,merge_with='month day pro gend')\n",
    "b.get()"
   ]
  },
  {
   "cell_type": "code",
   "execution_count": null,
   "metadata": {
    "collapsed": true
   },
   "outputs": [],
   "source": [
    "b.clear();\n",
    "b.pyge('pro',script=province.split(' '))\n",
    "b.rangege('year',max=2005,min=1980,mode='cross')\n",
    "b.rangege('month',max=13,min=1,mode='cross')\n",
    "b.rangege('day',max=32,min=1,mode='cross')\n",
    "b.pyge('gend',script=['男生','女生'],mode='cross')\n",
    "b.merge('year:query',script=query_format,merge_with='month day pro gend')\n",
    "b.get()"
   ]
  },
  {
   "cell_type": "code",
   "execution_count": 16,
   "metadata": {
    "collapsed": false
   },
   "outputs": [
    {
     "name": "stdout",
     "output_type": "stream",
     "text": [
      "1, RangeGE year, pro\n",
      "2, RangeGE month, pro,year\n",
      "3, RangeGE day, month,pro,year\n",
      "4, PythonGE gend, month,pro,year,day\n",
      "5, MergeTF year:query, month,pro,gend,year,day\n"
     ]
    }
   ],
   "source": [
    "b.check()"
   ]
  },
  {
   "cell_type": "code",
   "execution_count": 17,
   "metadata": {
    "collapsed": false
   },
   "outputs": [
    {
     "data": {
      "text/plain": [
       "<etl.ETLTask at 0x10f54e080>"
      ]
     },
     "execution_count": 17,
     "metadata": {},
     "output_type": "execute_result"
    }
   ],
   "source": [
    "l.clear()\n",
    "l.etlge(selector='birth')\n",
    "l.py('query:js', script=lambda x:quote(x['query']))\n",
    "l.merge('js:url',script=format,merge_with='0')\n",
    "l.pl(count_per_thread=20)\n",
    "l.crawler('url',selector='ct')\n",
    "l.xpath('Content:page',mode='html', script='//*[@id=\"resultNum\"]')\n",
    "l.number('page')\n",
    "l.delete('Content')\n",
    "l.py('page',script=lambda x:min(500,int(x['page'])))\n",
    "l.rangege('p',max='[page]',mode='cross',min=1, interval=10)\n",
    "l.merge('js:url', script=format, merge_with='p')\n",
    "l.crawler('url',selector='list',new_col='month day pro gend year')\n",
    "l.json('col5_popval',mode='doc')\n",
    "l.number('col7:common_friends')\n",
    "l.number('col1_href:id',index=1)\n",
    "l.delete('col1_href col3_href col5_popval col7 col9_data-id col10_data.name col8_data-common')\n",
    "l.number('user_lively')\n",
    "l.rename('col6:expr col0_data-src:head col2:name')\n",
    "l.replace('expr',script='经历 : ')\n",
    "l.dbex('id',connector='mongo',table='renren')"
   ]
  },
  {
   "cell_type": "code",
   "execution_count": 18,
   "metadata": {
    "collapsed": false
   },
   "outputs": [
    {
     "name": "stdout",
     "output_type": "stream",
     "text": [
      "1, PythonTF query:js, month,pro,query,gend,year,day\n",
      "2, MergeTF js:url, month,js,pro,query,gend,year,day\n",
      "3, ParallelTF , month,js,pro,query,url,gend,year,day\n",
      "4, CrawlerTF url, month,js,pro,query,url,gend,year,day\n",
      "5, XPathTF Content:page, month,js,pro,query,url,Content,gend,year,day\n",
      "6, NumberTF page, month,js,pro,page,query,url,Content,gend,year,day\n",
      "7, DeleteTF Content, month,js,pro,page,query,url,Content,gend,year,day\n",
      "8, PythonTF page, month,js,pro,page,query,url,gend,year,day\n",
      "9, RangeGE p, month,js,pro,page,query,url,gend,year,day\n",
      "10, MergeTF js:url, month,js,pro,page,query,url,p,gend,year,day\n",
      "11, CrawlerTF url, month,js,pro,page,query,url,p,gend,year,day\n",
      "12, JsonTF col5_popval, pro,col0_data-src,col1_href,month,col2,col5_popval,col3_href,user_lively,year,gend,day\n",
      "13, NumberTF col7:common_friends, month,col1_href,pro,col5_popval,col0_data-src,friendNum,col3_href,active,day,year,col2,viewCount,popValue,user_lively,gend,passive,friendRank\n",
      "14, NumberTF col1_href:id, month,col1_href,pro,col5_popval,col0_data-src,friendNum,col3_href,active,day,year,col2,viewCount,popValue,user_lively,gend,passive,friendRank\n",
      "15, DeleteTF col1_href col3_href col5_popval col7 col9_data-id col10_data.name col8_data-common, month,col1_href,pro,col5_popval,col0_data-src,friendNum,col3_href,active,id,day,year,col2,viewCount,popValue,user_lively,gend,passive,friendRank\n",
      "16, NumberTF user_lively, month,pro,col0_data-src,friendNum,active,id,day,year,col2,viewCount,popValue,user_lively,gend,passive,friendRank\n",
      "17, RenameTF col6:expr col0_data-src:head col2:name, month,pro,col0_data-src,friendNum,active,id,day,year,col2,viewCount,popValue,user_lively,gend,passive,friendRank\n",
      "18, ReplaceTF expr, month,pro,col0_data-src,friendNum,active,id,day,year,col2,viewCount,popValue,user_lively,gend,passive,friendRank\n",
      "19, DbEX id, month,pro,col0_data-src,friendNum,active,id,day,year,col2,viewCount,popValue,user_lively,gend,passive,friendRank\n"
     ]
    }
   ],
   "source": [
    "l.check()"
   ]
  },
  {
   "cell_type": "code",
   "execution_count": null,
   "metadata": {
    "collapsed": false
   },
   "outputs": [],
   "source": [
    "l.get()"
   ]
  },
  {
   "cell_type": "code",
   "execution_count": null,
   "metadata": {
    "collapsed": false
   },
   "outputs": [],
   "source": [
    "l.execute()"
   ]
  },
  {
   "cell_type": "code",
   "execution_count": null,
   "metadata": {
    "collapsed": false
   },
   "outputs": [],
   "source": [
    "l.stop_server()"
   ]
  },
  {
   "cell_type": "code",
   "execution_count": null,
   "metadata": {
    "collapsed": true
   },
   "outputs": [],
   "source": [
    ""
   ]
  },
  {
   "cell_type": "code",
   "execution_count": null,
   "metadata": {
    "collapsed": true
   },
   "outputs": [],
   "source": [
    ""
   ]
  }
 ],
 "metadata": {
  "kernelspec": {
   "display_name": "Python [Root]",
   "language": "python",
   "name": "Python [Root]"
  },
  "language_info": {
   "codemirror_mode": {
    "name": "ipython",
    "version": 2.0
   },
   "file_extension": ".py",
   "mimetype": "text/x-python",
   "name": "python",
   "nbconvert_exporter": "python",
   "pygments_lexer": "ipython2",
   "version": "2.7.12"
  }
 },
 "nbformat": 4,
 "nbformat_minor": 0
}