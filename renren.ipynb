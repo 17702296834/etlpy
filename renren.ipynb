{
 "cells": [
  {
   "cell_type": "code",
   "execution_count": 1,
   "metadata": {
    "collapsed": false
   },
   "outputs": [],
   "source": [
    "from repl import *"
   ]
  },
  {
   "cell_type": "code",
   "execution_count": 2,
   "metadata": {
    "collapsed": true
   },
   "outputs": [],
   "source": [
    "headers='''\n",
    "Host: browse.renren.com\n",
    "Connection: keep-alive\n",
    "Cache-Control: max-age=0\n",
    "Upgrade-Insecure-Requests: 1\n",
    "User-Agent: Mozilla/5.0 (Macintosh; Intel Mac OS X 10_11_5) AppleWebKit/537.36 (KHTML, like Gecko) Chrome/52.0.2743.116 Safari/537.36\n",
    "Accept: text/html,application/xhtml+xml,application/xml;q=0.9,image/webp,*/*;q=0.8\n",
    "Referer: http://www.renren.com/296695625/profile\n",
    "Accept-Encoding: gzip, deflate, sdch\n",
    "Accept-Language: zh-CN,zh;q=0.8,en;q=0.6\n",
    "Cookie: anonymid=iqxs3arh-hus2ah; _r01_=1; XNESSESSIONID=ee0362aff077; l4pager=0; depovince=GW; jebecookies=c4bc4880-d117-40a7-94cc-3dd2d21391b4|||||; ick_login=c8df8dbb-c2ca-42a2-b20e-f2b27e06683d; jebe_key=b3f7048e-7d42-4f18-a23e-03d274b01a39%7Cd1c91d21c23af205fbde41b372732601%7C1469193870662%7C1%7C1470913691096; _de=B4F0273EEBE5D47A32E0B9ADC37B4602; p=106e8e0309b73b46a189dac5990846e02; first_login_flag=1; ln_uact=zym_by@126.com; ln_hurl=http://hdn.xnimg.cn/photos/hdn421/20120822/2245/h_main_1Hbx_528700010b791376.jpg; t=3b336ee1a515e4b6c3863e19f56b3bfb2; societyguester=3b336ee1a515e4b6c3863e19f56b3bfb2; id=230246512; xnsid=86b63f6a; ver=7.0; loginfrom=null; JSESSIONID=1D8D98426C02643F07F39F2B8D9B46B3; wp_fold=0\n",
    "'''"
   ]
  },
  {
   "cell_type": "code",
   "execution_count": 3,
   "metadata": {
    "collapsed": false
   },
   "outputs": [],
   "source": [
    "t=new_spider('list')"
   ]
  },
  {
   "cell_type": "code",
   "execution_count": 4,
   "metadata": {
    "collapsed": false
   },
   "outputs": [
    {
     "data": {
      "text/plain": [
       "<spider.Requests at 0x10588dda0>"
      ]
     },
     "execution_count": 4,
     "metadata": {},
     "output_type": "execute_result"
    }
   ],
   "source": [
    "t.requests.set_headers(headers)"
   ]
  },
  {
   "cell_type": "code",
   "execution_count": 5,
   "metadata": {
    "collapsed": false
   },
   "outputs": [
    {
     "data": {
      "text/plain": [
       "<spider.Requests at 0x1070289e8>"
      ]
     },
     "execution_count": 5,
     "metadata": {},
     "output_type": "execute_result"
    }
   ],
   "source": [
    "ct=new_spider('ct')\n",
    "ct.requests.set_headers(headers)"
   ]
  },
  {
   "cell_type": "code",
   "execution_count": 6,
   "metadata": {
    "collapsed": true
   },
   "outputs": [],
   "source": [
    "url='''http://browse.renren.com/sAjax.do?ajax=1&q=%20&p=%5B%7B%22t%22%3A%22birt%22%2C%22astr%22%3A%22%E6%91%A9%E7%BE%AF%22%7D%5D&s=0&u=230246512&act=search&offset=90&sort=0'''\n",
    "  "
   ]
  },
  {
   "cell_type": "code",
   "execution_count": 7,
   "metadata": {
    "collapsed": false
   },
   "outputs": [],
   "source": [
    "d=t.visit(url).great_hand(True).test().accept().get()"
   ]
  },
  {
   "cell_type": "code",
   "execution_count": 8,
   "metadata": {
    "collapsed": true
   },
   "outputs": [],
   "source": [
    "format = '''http://browse.renren.com/sAjax.do?ajax=1&q=&p={0}&s=0&u=230246512&act=search&offset={1}&sort=0'''"
   ]
  },
  {
   "cell_type": "code",
   "execution_count": 9,
   "metadata": {
    "collapsed": true
   },
   "outputs": [],
   "source": [
    "l=new_task('renrenlist')"
   ]
  },
  {
   "cell_type": "code",
   "execution_count": 10,
   "metadata": {
    "collapsed": true
   },
   "outputs": [],
   "source": [
    "import urllib"
   ]
  },
  {
   "cell_type": "code",
   "execution_count": 11,
   "metadata": {
    "collapsed": false
   },
   "outputs": [
    {
     "data": {
      "text/plain": [
       "<spider.Requests at 0x1169876a0>"
      ]
     },
     "execution_count": 11,
     "metadata": {},
     "output_type": "execute_result"
    }
   ],
   "source": [
    "peo= new_spider('people')\n",
    "peo.requests.set_headers(headers)"
   ]
  },
  {
   "cell_type": "code",
   "execution_count": 12,
   "metadata": {
    "collapsed": false
   },
   "outputs": [
    {
     "data": {
      "text/plain": [
       "<spider.SmartCrawler at 0x116987630>"
      ]
     },
     "execution_count": 12,
     "metadata": {},
     "output_type": "execute_result"
    }
   ],
   "source": [
    "peo.visit('http://www.renren.com/262894094/profile')"
   ]
  },
  {
   "cell_type": "code",
   "execution_count": 13,
   "metadata": {
    "collapsed": false
   },
   "outputs": [
    {
     "data": {
      "text/plain": [
       "<spider.SmartCrawler at 0x116987630>"
      ]
     },
     "execution_count": 13,
     "metadata": {},
     "output_type": "execute_result"
    }
   ],
   "source": [
    "peo.set_paras(False)"
   ]
  },
  {
   "cell_type": "code",
   "execution_count": 14,
   "metadata": {
    "collapsed": false
   },
   "outputs": [
    {
     "name": "stdout",
     "output_type": "stream",
     "text": [
      "gender  : None\n",
      "home  : None\n",
      "now_live  : None\n",
      "birth  : None\n"
     ]
    },
    {
     "data": {
      "text/plain": [
       "<spider.SmartCrawler at 0x116987630>"
      ]
     },
     "execution_count": 14,
     "metadata": {},
     "output_type": "execute_result"
    }
   ],
   "source": [
    "peo.xpath('女生','gender').xpath('忻州市','home').xpath('西安市','now_live').xpath('10-18','birth')"
   ]
  },
  {
   "cell_type": "code",
   "execution_count": 15,
   "metadata": {
    "collapsed": false
   },
   "outputs": [
    {
     "data": {
      "text/html": [
       "<div>\n",
       "<table border=\"1\" class=\"dataframe\">\n",
       "  <thead>\n",
       "    <tr style=\"text-align: right;\">\n",
       "      <th></th>\n",
       "      <th>Content</th>\n",
       "    </tr>\n",
       "  </thead>\n",
       "  <tbody>\n",
       "    <tr>\n",
       "      <th>0</th>\n",
       "      <td>&lt;!doctype html&gt;&lt;html class=\"nx-main980\" &gt;\\n&lt;he...</td>\n",
       "    </tr>\n",
       "  </tbody>\n",
       "</table>\n",
       "</div>"
      ],
      "text/plain": [
       "                                             Content\n",
       "0  <!doctype html><html class=\"nx-main980\" >\\n<he..."
      ]
     },
     "execution_count": 15,
     "metadata": {},
     "output_type": "execute_result"
    }
   ],
   "source": [
    "peo.accept().test().get()"
   ]
  },
  {
   "cell_type": "code",
   "execution_count": 16,
   "metadata": {
    "collapsed": true
   },
   "outputs": [],
   "source": [
    "mongo =etl.MongoDBConnector();\n",
    "mongo.connect_str='mongodb://10.101.167.107'\n",
    "mongo.db='ant_temp'\n",
    "con=new_connector('mongo',mongo)"
   ]
  },
  {
   "cell_type": "code",
   "execution_count": 17,
   "metadata": {
    "collapsed": false
   },
   "outputs": [
    {
     "name": "stdout",
     "output_type": "stream",
     "text": [
      "unknown  : None\n"
     ]
    },
    {
     "data": {
      "text/plain": [
       "<spider.SmartCrawler at 0x116987630>"
      ]
     },
     "execution_count": 17,
     "metadata": {},
     "output_type": "execute_result"
    }
   ],
   "source": [
    "peo.visit('http://browse.renren.com/s/all?from=opensearch&q=#qt=/tindex=2').xpath('河北')"
   ]
  },
  {
   "cell_type": "code",
   "execution_count": 18,
   "metadata": {
    "collapsed": true
   },
   "outputs": [],
   "source": [
    "province='北京 上海 天津 重庆 黑龙江 吉林 辽宁 山东 山西 陕西 河北 河南 湖北 湖南 海南 江苏 江西 广东 广西 云南 贵州 四川 内蒙古 宁夏 甘肃 青海 西藏 新疆 安徽 浙江 福建 台湾 香港 澳门'"
   ]
  },
  {
   "cell_type": "code",
   "execution_count": 19,
   "metadata": {
    "collapsed": true
   },
   "outputs": [],
   "source": [
    "tp= province.split(' ')\n",
    "query_format='[{\"t\":\"birt\",\"month\":\"{1}\",\"year\":\"{0}\",\"day\":\"{2}\"},{\"prov\":\"{3}\",\"city\":\"{4}\",\"t\":\"base\"}]'"
   ]
  },
  {
   "cell_type": "code",
   "execution_count": 20,
   "metadata": {
    "collapsed": true
   },
   "outputs": [],
   "source": [
    "cities='''var _city_1=[\"110101:东城区\",\"110102:西城区\",\"110103:崇文区\",\"110104:宣武区\",\"110105:朝阳区\",\"110106:丰台区\",\"110107:石景山区\",\"110108:海淀区\",\"110109:门头沟区\",\"110111:房山区\",\"110112:通州区\",\"110113:顺义区\",\"110114:昌平区\",\"110115:大兴区\",\"110116:怀柔区\",\"110117:平谷区\",\"110228:密云县\",\"110229:延庆县\"];\n",
    "var _city_2=[\"310101:黄浦区\",\"310103:卢湾区\",\"310104:徐汇区\",\"310105:长宁区\",\"310106:静安区\",\"310107:普陀区\",\"310108:闸北区\",\"310109:虹口区\",\"310110:杨浦区\",\"310112:闵行区\",\"310113:宝山区\",\"310114:嘉定区\",\"310115:浦东新区\",\"310116:金山区\",\"310117:松江区\",\"310118:青浦区\",\"310119:南汇区\",\"310120:奉贤区\",\"310230:崇明县\"];\n",
    "var _city_3=[\"120101:和平区\",\"120102:河东区\",\"120103:河西区\",\"120104:南开区\",\"120105:河北区\",\"120106:红桥区\",\"120107:塘沽区\",\"120108:汉沽区\",\"120109:大港区\",\"120110:东丽区\",\"120111:西青区\",\"120112:津南区\",\"120113:北辰区\",\"120114:武清区\",\"120115:宝坻区\",\"120221:宁河县\",\"120223:静海县\",\"120225:蓟县\"];\n",
    "var _city_4=[\"500101:万州区\",\"500102:涪陵区\",\"500103:渝中区\",\"500104:大渡口区\",\"500105:江北区\",\"500106:沙坪坝区\",\"500107:九龙坡区\",\"500108:南岸区\",\"500109:北碚区\",\"500110:万盛区\",\"500111:双桥区\",\"500112:渝北区\",\"500113:巴南区\",\"500114:黔江区\",\"500115:长寿区\",\"500116:江津区\",\"500117:合川区\",\"500118:永川区\",\"500119:南川区\",\"500222:綦江县\",\"500223:潼南县\",\"500224:铜梁县\",\"500225:大足县\",\"500226:荣昌县\",\"500227:璧山县\",\"500228:梁平县\",\"500229:城口县\",\"500230:丰都县\",\"500231:垫江县\",\"500232:武隆县\",\"500233:忠县\",\"500234:开县\",\"500235:云阳县\",\"500236:奉节县\",\"500237:巫山县\",\"500238:巫溪县\",\"500240:石柱土家族自治县\",\"500241:秀山土家族苗族自治县\",\"500242:酉阳土家族苗族自治县\",\"500243:彭水苗族土家族自治县\"];\n",
    "var _city_5=[\"2301:哈尔滨市\",\"2302:齐齐哈尔市\",\"2303:鸡西市\",\"2304:鹤岗市\",\"2305:双鸭山市\",\"2306:大庆市\",\"2307:伊春市\",\"2308:佳木斯市\",\"2309:七台河市\",\"2310:牡丹江市\",\"2311:黑河市\",\"2312:绥化市\",\"2327:大兴安岭地区\"];\n",
    "var _city_6=[\"2201:长春市\",\"2202:吉林市\",\"2203:四平市\",\"2204:辽源市\",\"2205:通化市\",\"2206:白山市\",\"2207:松原市\",\"2208:白城市\",\"2224:延边朝鲜族自治州\"];\n",
    "var _city_7=[\"2101:沈阳市\",\"2102:大连市\",\"2103:鞍山市\",\"2104:抚顺市\",\"2105:本溪市\",\"2106:丹东市\",\"2107:锦州市\",\"2108:营口市\",\"2109:阜新市\",\"2110:辽阳市\",\"2111:盘锦市\",\"2112:铁岭市\",\"2113:朝阳市\",\"2114:葫芦岛市\"];\n",
    "var _city_8=[\"3701:济南市\",\"3702:青岛市\",\"3703:淄博市\",\"3704:枣庄市\",\"3705:东营市\",\"3706:烟台市\",\"3707:潍坊市\",\"3708:济宁市\",\"3709:泰安市\",\"3710:威海市\",\"3711:日照市\",\"3712:莱芜市\",\"3713:临沂市\",\"3714:德州市\",\"3715:聊城市\",\"3716:滨州市\",\"3717:菏泽市\"];\n",
    "var _city_9=[\"1401:太原市\",\"1402:大同市\",\"1403:阳泉市\",\"1404:长治市\",\"1405:晋城市\",\"1406:朔州市\",\"1407:晋中市\",\"1408:运城市\",\"1409:忻州市\",\"1410:临汾市\",\"1411:吕梁市\"];\n",
    "var _city_10=[\"6101:西安市\",\"6102:铜川市\",\"6103:宝鸡市\",\"6104:咸阳市\",\"6105:渭南市\",\"6106:延安市\",\"6107:汉中市\",\"6108:榆林市\",\"6109:安康市\",\"6110:商洛市\"];\n",
    "var _city_11=[\"1301:石家庄市\",\"1302:唐山市\",\"1303:秦皇岛市\",\"1304:邯郸市\",\"1305:邢台市\",\"1306:保定市\",\"1307:张家口市\",\"1308:承德市\",\"1309:沧州市\",\"1310:廊坊市\",\"1311:衡水市\"];\n",
    "var _city_12=[\"4101:郑州市\",\"4102:开封市\",\"4103:洛阳市\",\"4104:平顶山市\",\"4105:安阳市\",\"4106:鹤壁市\",\"4107:新乡市\",\"4108:焦作市\",\"4109:濮阳市\",\"4110:许昌市\",\"4111:漯河市\",\"4112:三门峡市\",\"4113:南阳市\",\"4114:商丘市\",\"4115:信阳市\",\"4116:周口市\",\"4117:驻马店市\",\"4118:济源市\"];\n",
    "var _city_13=[\"4201:武汉市\",\"4202:黄石市\",\"4203:十堰市\",\"4205:宜昌市\",\"4206:襄樊市\",\"4207:鄂州市\",\"4208:荆门市\",\"4209:孝感市\",\"4210:荆州市\",\"4211:黄冈市\",\"4212:咸宁市\",\"4213:随州市\",\"4228:恩施土家族苗族自治州\",\"429004:仙桃市\",\"429005:潜江市\",\"429006:天门市\",\"429021:神农架林区\"];\n",
    "var _city_14=[\"4301:长沙市\",\"4302:株洲市\",\"4303:湘潭市\",\"4304:衡阳市\",\"4305:邵阳市\",\"4306:岳阳市\",\"4307:常德市\",\"4308:张家界市\",\"4309:益阳市\",\"4310:郴州市\",\"4311:永州市\",\"4312:怀化市\",\"4313:娄底市\",\"4331:湘西土家族苗族自治州\"];\n",
    "var _city_15=[\"4601:海口市\",\"4602:三亚市\",\"469001:五指山市\",\"469002:琼海市\",\"469003:儋州市\",\"469005:文昌市\",\"469006:万宁市\",\"469007:东方市\",\"469025:定安县\",\"469026:屯昌县\",\"469027:澄迈县\",\"469028:临高县\",\"469030:白沙黎族自治县\",\"469031:昌江黎族自治县\",\"469033:乐东黎族自治县\",\"469034:陵水黎族自治县\",\"469035:保亭黎族苗族自治县\",\"469036:琼中黎族苗族自治县\"];\n",
    "var _city_16=[\"3201:南京市\",\"3202:无锡市\",\"3203:徐州市\",\"3204:常州市\",\"3205:苏州市\",\"3206:南通市\",\"3207:连云港市\",\"3208:淮安市\",\"3209:盐城市\",\"3210:扬州市\",\"3211:镇江市\",\"3212:泰州市\",\"3213:宿迁市\"];\n",
    "var _city_17=[\"3601:南昌市\",\"3602:景德镇市\",\"3603:萍乡市\",\"3604:九江市\",\"3605:新余市\",\"3606:鹰潭市\",\"3607:赣州市\",\"3608:吉安市\",\"3609:宜春市\",\"3610:抚州市\",\"3611:上饶市\"];\n",
    "var _city_18=[\"4401:广州市\",\"4402:韶关市\",\"4403:深圳市\",\"4404:珠海市\",\"4405:汕头市\",\"4406:佛山市\",\"4407:江门市\",\"4408:湛江市\",\"4409:茂名市\",\"4412:肇庆市\",\"4413:惠州市\",\"4414:梅州市\",\"4415:汕尾市\",\"4416:河源市\",\"4417:阳江市\",\"4418:清远市\",\"4419:东莞市\",\"4420:中山市\",\"4451:潮州市\",\"4452:揭阳市\",\"4453:云浮市\"];\n",
    "var _city_19=[\"4501:南宁市\",\"4502:柳州市\",\"4503:桂林市\",\"4504:梧州市\",\"4505:北海市\",\"4506:防城港市\",\"4507:钦州市\",\"4508:贵港市\",\"4509:玉林市\",\"4510:百色市\",\"4511:贺州市\",\"4512:河池市\",\"4513:来宾市\",\"4514:崇左市\"];\n",
    "var _city_20=[\"5301:昆明市\",\"5303:曲靖市\",\"5304:玉溪市\",\"5305:保山市\",\"5306:昭通市\",\"5307:丽江市\",\"5308:普洱市\",\"5309:临沧市\",\"5323:楚雄彝族自治州\",\"5325:红河哈尼族彝族自治州\",\"5326:文山壮族苗族自治州\",\"5328:西双版纳傣族自治州\",\"5329:大理白族自治州\",\"5331:德宏傣族景颇族自治州\",\"5333:怒江傈僳族自治州\",\"5334:迪庆藏族自治州\"];\n",
    "var _city_21=[\"5201:贵阳市\",\"5202:六盘水市\",\"5203:遵义市\",\"5204:安顺市\",\"5222:铜仁地区\",\"5223:黔西南布依族苗族自治州\",\"5224:毕节地区\",\"5226:黔东南苗族侗族自治州\",\"5227:黔南布依族苗族自治州\"];\n",
    "var _city_22=[\"5101:成都市\",\"5103:自贡市\",\"5104:攀枝花市\",\"5105:泸州市\",\"5106:德阳市\",\"5107:绵阳市\",\"5108:广元市\",\"5109:遂宁市\",\"5110:内江市\",\"5111:乐山市\",\"5113:南充市\",\"5114:眉山市\",\"5115:宜宾市\",\"5116:广安市\",\"5117:达州市\",\"5118:雅安市\",\"5119:巴中市\",\"5120:资阳市\",\"5132:阿坝藏族羌族自治州\",\"5133:甘孜藏族自治州\",\"5134:凉山彝族自治州\"];\n",
    "var _city_23=[\"1501:呼和浩特市\",\"1502:包头市\",\"1503:乌海市\",\"1504:赤峰市\",\"1505:通辽市\",\"1506:鄂尔多斯市\",\"1507:呼伦贝尔市\",\"1508:巴彦淖尔市\",\"1509:乌兰察布市\",\"1522:兴安盟\",\"1525:锡林郭勒盟\",\"1529:阿拉善盟\"];\n",
    "var _city_24=[\"6401:银川市\",\"6402:石嘴山市\",\"6403:吴忠市\",\"6404:固原市\",\"6405:中卫市\"];\n",
    "var _city_25=[\"6201:兰州市\",\"6202:嘉峪关市\",\"6203:金昌市\",\"6204:白银市\",\"6205:天水市\",\"6206:武威市\",\"6207:张掖市\",\"6208:平凉市\",\"6209:酒泉市\",\"6210:庆阳市\",\"6211:定西市\",\"6212:陇南市\",\"6229:临夏回族自治州\",\"6230:甘南藏族自治州\"];\n",
    "var _city_26=[\"6301:西宁市\",\"6321:海东地区\",\"6322:海北藏族自治州\",\"6323:黄南藏族自治州\",\"6325:海南藏族自治州\",\"6326:果洛藏族自治州\",\"6327:玉树藏族自治州\",\"6328:海西蒙古族藏族自治州\"];\n",
    "var _city_27=[\"5401:拉萨市\",\"5421:昌都地区\",\"5422:山南地区\",\"5423:日喀则地区\",\"5424:那曲地区\",\"5425:阿里地区\",\"5426:林芝地区\"];\n",
    "var _city_28=[\"6501:乌鲁木齐市\",\"6502:克拉玛依市\",\"6521:吐鲁番地区\",\"6522:哈密地区\",\"6523:昌吉回族自治州\",\"6527:博尔塔拉蒙古自治州\",\"6528:巴音郭楞蒙古自治州\",\"6529:阿克苏地区\",\"6530:克孜勒苏柯尔克孜自治州\",\"6531:喀什地区\",\"6532:和田地区\",\"6540:伊犁哈萨克自治州\",\"6542:塔城地区\",\"6543:阿勒泰地区\",\"659001:石河子市\",\"659002:阿拉尔市\",\"659003:图木舒克市\",\"659004:五家渠市\"];\n",
    "var _city_29=[\"3401:合肥市\",\"3402:芜湖市\",\"3403:蚌埠市\",\"3404:淮南市\",\"3405:马鞍山市\",\"3406:淮北市\",\"3407:铜陵市\",\"3408:安庆市\",\"3410:黄山市\",\"3411:滁州市\",\"3412:阜阳市\",\"3413:宿州市\",\"3414:巢湖市\",\"3415:六安市\",\"3416:亳州市\",\"3417:池州市\",\"3418:宣城市\"];\n",
    "var _city_30=[\"3301:杭州市\",\"3302:宁波市\",\"3303:温州市\",\"3304:嘉兴市\",\"3305:湖州市\",\"3306:绍兴市\",\"3307:金华市\",\"3308:衢州市\",\"3309:舟山市\",\"3310:台州市\",\"3311:丽水市\"];\n",
    "var _city_31=[\"3501:福州市\",\"3502:厦门市\",\"3503:莆田市\",\"3504:三明市\",\"3505:泉州市\",\"3506:漳州市\",\"3507:南平市\",\"3508:龙岩市\",\"3509:宁德市\"];\n",
    "var _city_32=[\"7101:台北市\",\"7102:高雄市\",\"7103:基隆市\",\"7104:台中市\",\"7105:台南市\",\"7106:新竹市\",\"7107:嘉义市\"];\n",
    "var _city_33=[\"8101:中西区\",\"8102:湾仔区\",\"8103:东区\",\"8104:南区\",\"8105:油尖旺区\",\"8106:深水埗区\",\"8107:九龙城区\",\"8108:黄大仙区\",\"8109:观塘区\",\"8110:荃湾区\",\"8111:葵青区\",\"8112:沙田区\",\"8113:西贡区\",\"8114:大埔区\",\"8115:北区\",\"8116:元朗区\",\"8117:屯门区\",\"8118:离岛区\"];'''"
   ]
  },
  {
   "cell_type": "code",
   "execution_count": 21,
   "metadata": {
    "collapsed": false
   },
   "outputs": [],
   "source": [
    "p=0;\n",
    "pro_cities={}\n",
    "for r in cities.split('\\n'):\n",
    "    ss=r.split('[')\n",
    "    pro=tp[p]\n",
    "    buf=[]\n",
    "    city= ss[1].split(']')[0]\n",
    "    city= city.replace('\"','')\n",
    "    for c in city.split(','):\n",
    "        cc= c.split(':')\n",
    "        buf.append(cc[1])\n",
    "    pro_cities[pro]=buf\n",
    "    p+=1"
   ]
  },
  {
   "cell_type": "code",
   "execution_count": 22,
   "metadata": {
    "collapsed": true
   },
   "outputs": [],
   "source": [
    "def pro_cities_generator():\n",
    "    for p,c in pro_cities.items():\n",
    "        for s in c:\n",
    "            yield {'city':s,'pro':p}"
   ]
  },
  {
   "cell_type": "code",
   "execution_count": 23,
   "metadata": {
    "collapsed": true
   },
   "outputs": [],
   "source": [
    "b=new_task('birth')"
   ]
  },
  {
   "cell_type": "code",
   "execution_count": 37,
   "metadata": {
    "collapsed": false
   },
   "outputs": [
    {
     "data": {
      "text/html": [
       "<div>\n",
       "<table border=\"1\" class=\"dataframe\">\n",
       "  <thead>\n",
       "    <tr style=\"text-align: right;\">\n",
       "      <th></th>\n",
       "      <th>query</th>\n",
       "    </tr>\n",
       "  </thead>\n",
       "  <tbody>\n",
       "    <tr>\n",
       "      <th>0</th>\n",
       "      <td>[{\"t\":\"birt\",\"month\":\"1\",\"year\":\"1980\",\"day\":\"...</td>\n",
       "    </tr>\n",
       "    <tr>\n",
       "      <th>1</th>\n",
       "      <td>[{\"t\":\"birt\",\"month\":\"1\",\"year\":\"1980\",\"day\":\"...</td>\n",
       "    </tr>\n",
       "    <tr>\n",
       "      <th>2</th>\n",
       "      <td>[{\"t\":\"birt\",\"month\":\"1\",\"year\":\"1980\",\"day\":\"...</td>\n",
       "    </tr>\n",
       "    <tr>\n",
       "      <th>3</th>\n",
       "      <td>[{\"t\":\"birt\",\"month\":\"1\",\"year\":\"1980\",\"day\":\"...</td>\n",
       "    </tr>\n",
       "    <tr>\n",
       "      <th>4</th>\n",
       "      <td>[{\"t\":\"birt\",\"month\":\"1\",\"year\":\"1980\",\"day\":\"...</td>\n",
       "    </tr>\n",
       "    <tr>\n",
       "      <th>5</th>\n",
       "      <td>[{\"t\":\"birt\",\"month\":\"1\",\"year\":\"1980\",\"day\":\"...</td>\n",
       "    </tr>\n",
       "    <tr>\n",
       "      <th>6</th>\n",
       "      <td>[{\"t\":\"birt\",\"month\":\"1\",\"year\":\"1980\",\"day\":\"...</td>\n",
       "    </tr>\n",
       "    <tr>\n",
       "      <th>7</th>\n",
       "      <td>[{\"t\":\"birt\",\"month\":\"1\",\"year\":\"1980\",\"day\":\"...</td>\n",
       "    </tr>\n",
       "    <tr>\n",
       "      <th>8</th>\n",
       "      <td>[{\"t\":\"birt\",\"month\":\"1\",\"year\":\"1980\",\"day\":\"...</td>\n",
       "    </tr>\n",
       "    <tr>\n",
       "      <th>9</th>\n",
       "      <td>[{\"t\":\"birt\",\"month\":\"1\",\"year\":\"1980\",\"day\":\"...</td>\n",
       "    </tr>\n",
       "  </tbody>\n",
       "</table>\n",
       "</div>"
      ],
      "text/plain": [
       "                                               query\n",
       "0  [{\"t\":\"birt\",\"month\":\"1\",\"year\":\"1980\",\"day\":\"...\n",
       "1  [{\"t\":\"birt\",\"month\":\"1\",\"year\":\"1980\",\"day\":\"...\n",
       "2  [{\"t\":\"birt\",\"month\":\"1\",\"year\":\"1980\",\"day\":\"...\n",
       "3  [{\"t\":\"birt\",\"month\":\"1\",\"year\":\"1980\",\"day\":\"...\n",
       "4  [{\"t\":\"birt\",\"month\":\"1\",\"year\":\"1980\",\"day\":\"...\n",
       "5  [{\"t\":\"birt\",\"month\":\"1\",\"year\":\"1980\",\"day\":\"...\n",
       "6  [{\"t\":\"birt\",\"month\":\"1\",\"year\":\"1980\",\"day\":\"...\n",
       "7  [{\"t\":\"birt\",\"month\":\"1\",\"year\":\"1980\",\"day\":\"...\n",
       "8  [{\"t\":\"birt\",\"month\":\"1\",\"year\":\"1980\",\"day\":\"...\n",
       "9  [{\"t\":\"birt\",\"month\":\"1\",\"year\":\"1980\",\"day\":\"..."
      ]
     },
     "execution_count": 37,
     "metadata": {},
     "output_type": "execute_result"
    }
   ],
   "source": [
    "b.clear();\n",
    "b.pyge(script=pro_cities_generator)\n",
    "b.rangege('year',max=2005,min=1980,mode=etl.MERGE_TYPE_CROSS)\n",
    "b.rangege('month',max=13,min=1,mode=etl.MERGE_TYPE_CROSS)\n",
    "b.rangege('day',max=32,min=1,mode=etl.MERGE_TYPE_CROSS)\n",
    "b.merge({'year':'query'},script=query_format,merge_with='month day pro city')\n",
    "b.delete(['city','day','pro','year','month'])\n",
    "b.get()"
   ]
  },
  {
   "cell_type": "code",
   "execution_count": 45,
   "metadata": {
    "collapsed": false
   },
   "outputs": [
    {
     "data": {
      "text/plain": [
       "<etl.ETLTask at 0x11695dd30>"
      ]
     },
     "execution_count": 45,
     "metadata": {},
     "output_type": "execute_result"
    }
   ],
   "source": [
    "l.clear()\n",
    "l.etlge(selector='birth')\n",
    "l.py({'query':'js'}, script=lambda x:urllib.request.quote(str(x['query'])))\n",
    "l.merge({'js':'url'},script=format,merge_with='0')\n",
    "l.tolist(count_per_thread=10)\n",
    "l.crawler('url',selector='ct')\n",
    "l.xpath('Content',mode=etl.GET_HTML, xpath='//*[@id=\"resultNum\"]')\n",
    "l.number('Content')\n",
    "l.rangege('p',max='[Content]',mode=etl.MERGE_TYPE_CROSS,interval=10)\n",
    "\n",
    "l.merge({'js':'url'}, script=format, merge_with='p')\n",
    "l.crawler('url',selector='list',new_col='query')\n",
    "l.json('col5_popval',mode=etl.GENERATE_DOC)\n",
    "l.number({'col7':'common_friends'})\n",
    "l.number({'col1_href':'id'},index=1)\n",
    "l.delete(['col1_href','col3_href','col5_popval','col7','col9_data-id','col10_data.name','col8_data-common'])\n",
    "l.number('user_lively')\n",
    "l.rename({'col6':'expr','col0_data-src':'head','col2':'name'})\n",
    "# l.merge({'id':'url'},script='http://www.renren.com/{0}/profile')\n",
    "# l.crawler('url',selector='people')\n",
    "# l.replace('home',script='来自')\n",
    "# l.replace('now_live',script='现居')\n",
    "l.replace('expr',script='经历 : ')\n",
    "l.dbex('id',connector='mongo',table='renren')\n",
    "# l.delete('url')"
   ]
  },
  {
   "cell_type": "code",
   "execution_count": 46,
   "metadata": {
    "collapsed": false
   },
   "outputs": [
    {
     "data": {
      "text/html": [
       "<div>\n",
       "<table border=\"1\" class=\"dataframe\">\n",
       "  <thead>\n",
       "    <tr style=\"text-align: right;\">\n",
       "      <th></th>\n",
       "      <th>active</th>\n",
       "      <th>friendNum</th>\n",
       "      <th>friendRank</th>\n",
       "      <th>head</th>\n",
       "      <th>id</th>\n",
       "      <th>name</th>\n",
       "      <th>passive</th>\n",
       "      <th>popValue</th>\n",
       "      <th>query</th>\n",
       "      <th>user_lively</th>\n",
       "      <th>viewCount</th>\n",
       "    </tr>\n",
       "  </thead>\n",
       "  <tbody>\n",
       "    <tr>\n",
       "      <th>0</th>\n",
       "      <td>31</td>\n",
       "      <td>442</td>\n",
       "      <td>48</td>\n",
       "      <td>http://hdn.xnimg.cn/photos/hdn421/20090930/132...</td>\n",
       "      <td>721684961</td>\n",
       "      <td>李水儿</td>\n",
       "      <td>600</td>\n",
       "      <td>486</td>\n",
       "      <td>[{\"t\":\"birt\",\"month\":\"1\",\"year\":\"1980\",\"day\":\"...</td>\n",
       "      <td>486</td>\n",
       "      <td>633</td>\n",
       "    </tr>\n",
       "    <tr>\n",
       "      <th>1</th>\n",
       "      <td>31</td>\n",
       "      <td>94</td>\n",
       "      <td>74</td>\n",
       "      <td>http://hdn.xnimg.cn/photos/hdn521/20120905/181...</td>\n",
       "      <td>707131676</td>\n",
       "      <td>杜行克</td>\n",
       "      <td>377</td>\n",
       "      <td>307</td>\n",
       "      <td>[{\"t\":\"birt\",\"month\":\"1\",\"year\":\"1980\",\"day\":\"...</td>\n",
       "      <td>307</td>\n",
       "      <td>2050</td>\n",
       "    </tr>\n",
       "    <tr>\n",
       "      <th>2</th>\n",
       "      <td>4000</td>\n",
       "      <td>0</td>\n",
       "      <td>1</td>\n",
       "      <td>http://head.xiaonei.com/photos/0/0/men_head.gif</td>\n",
       "      <td>496629614</td>\n",
       "      <td>李杰</td>\n",
       "      <td>0</td>\n",
       "      <td>800</td>\n",
       "      <td>[{\"t\":\"birt\",\"month\":\"1\",\"year\":\"1980\",\"day\":\"...</td>\n",
       "      <td>800</td>\n",
       "      <td>3</td>\n",
       "    </tr>\n",
       "    <tr>\n",
       "      <th>3</th>\n",
       "      <td>983</td>\n",
       "      <td>400</td>\n",
       "      <td>70</td>\n",
       "      <td>http://hdn.xnimg.cn/photos/hdn321/20120825/190...</td>\n",
       "      <td>457407295</td>\n",
       "      <td>王旭</td>\n",
       "      <td>1971</td>\n",
       "      <td>1773</td>\n",
       "      <td>[{\"t\":\"birt\",\"month\":\"1\",\"year\":\"1980\",\"day\":\"...</td>\n",
       "      <td>1773</td>\n",
       "      <td>1093</td>\n",
       "    </tr>\n",
       "    <tr>\n",
       "      <th>4</th>\n",
       "      <td>171</td>\n",
       "      <td>135</td>\n",
       "      <td>24</td>\n",
       "      <td>http://hdn.xnimg.cn/photos/hdn521/20130604/214...</td>\n",
       "      <td>445951135</td>\n",
       "      <td>靳江春</td>\n",
       "      <td>311</td>\n",
       "      <td>283</td>\n",
       "      <td>[{\"t\":\"birt\",\"month\":\"1\",\"year\":\"1980\",\"day\":\"...</td>\n",
       "      <td>283</td>\n",
       "      <td>215</td>\n",
       "    </tr>\n",
       "    <tr>\n",
       "      <th>5</th>\n",
       "      <td>4000</td>\n",
       "      <td>0</td>\n",
       "      <td>1</td>\n",
       "      <td>http://head.xiaonei.com/photos/0/0/women_head.gif</td>\n",
       "      <td>384893127</td>\n",
       "      <td>捷西</td>\n",
       "      <td>0</td>\n",
       "      <td>800</td>\n",
       "      <td>[{\"t\":\"birt\",\"month\":\"1\",\"year\":\"1980\",\"day\":\"...</td>\n",
       "      <td>800</td>\n",
       "      <td>6</td>\n",
       "    </tr>\n",
       "    <tr>\n",
       "      <th>6</th>\n",
       "      <td>196</td>\n",
       "      <td>23</td>\n",
       "      <td>43</td>\n",
       "      <td>http://hdn.xnimg.cn/photos/hdn521/20110623/223...</td>\n",
       "      <td>381770934</td>\n",
       "      <td>龙海明</td>\n",
       "      <td>284</td>\n",
       "      <td>266</td>\n",
       "      <td>[{\"t\":\"birt\",\"month\":\"1\",\"year\":\"1980\",\"day\":\"...</td>\n",
       "      <td>266</td>\n",
       "      <td>56</td>\n",
       "    </tr>\n",
       "    <tr>\n",
       "      <th>7</th>\n",
       "      <td>444</td>\n",
       "      <td>9</td>\n",
       "      <td>22</td>\n",
       "      <td>http://hdn.xnimg.cn/photos/hdn521/20110212/151...</td>\n",
       "      <td>354599119</td>\n",
       "      <td>风语</td>\n",
       "      <td>14</td>\n",
       "      <td>111</td>\n",
       "      <td>[{\"t\":\"birt\",\"month\":\"1\",\"year\":\"1980\",\"day\":\"...</td>\n",
       "      <td>111</td>\n",
       "      <td>29</td>\n",
       "    </tr>\n",
       "    <tr>\n",
       "      <th>8</th>\n",
       "      <td>1333</td>\n",
       "      <td>0</td>\n",
       "      <td>1</td>\n",
       "      <td>http://head.xiaonei.com/photos/0/0/men_head.gif</td>\n",
       "      <td>339608116</td>\n",
       "      <td>戚戚</td>\n",
       "      <td>0</td>\n",
       "      <td>400</td>\n",
       "      <td>[{\"t\":\"birt\",\"month\":\"1\",\"year\":\"1980\",\"day\":\"...</td>\n",
       "      <td>400</td>\n",
       "      <td>2</td>\n",
       "    </tr>\n",
       "    <tr>\n",
       "      <th>9</th>\n",
       "      <td>760</td>\n",
       "      <td>45</td>\n",
       "      <td>15</td>\n",
       "      <td>http://hdn.xnimg.cn/photos/hdn121/20131024/152...</td>\n",
       "      <td>336091847</td>\n",
       "      <td>杨锐</td>\n",
       "      <td>132</td>\n",
       "      <td>258</td>\n",
       "      <td>[{\"t\":\"birt\",\"month\":\"1\",\"year\":\"1980\",\"day\":\"...</td>\n",
       "      <td>258</td>\n",
       "      <td>131</td>\n",
       "    </tr>\n",
       "  </tbody>\n",
       "</table>\n",
       "</div>"
      ],
      "text/plain": [
       "   active  friendNum  friendRank  \\\n",
       "0      31        442          48   \n",
       "1      31         94          74   \n",
       "2    4000          0           1   \n",
       "3     983        400          70   \n",
       "4     171        135          24   \n",
       "5    4000          0           1   \n",
       "6     196         23          43   \n",
       "7     444          9          22   \n",
       "8    1333          0           1   \n",
       "9     760         45          15   \n",
       "\n",
       "                                                head         id name  passive  \\\n",
       "0  http://hdn.xnimg.cn/photos/hdn421/20090930/132...  721684961  李水儿      600   \n",
       "1  http://hdn.xnimg.cn/photos/hdn521/20120905/181...  707131676  杜行克      377   \n",
       "2    http://head.xiaonei.com/photos/0/0/men_head.gif  496629614   李杰        0   \n",
       "3  http://hdn.xnimg.cn/photos/hdn321/20120825/190...  457407295   王旭     1971   \n",
       "4  http://hdn.xnimg.cn/photos/hdn521/20130604/214...  445951135  靳江春      311   \n",
       "5  http://head.xiaonei.com/photos/0/0/women_head.gif  384893127   捷西        0   \n",
       "6  http://hdn.xnimg.cn/photos/hdn521/20110623/223...  381770934  龙海明      284   \n",
       "7  http://hdn.xnimg.cn/photos/hdn521/20110212/151...  354599119   风语       14   \n",
       "8    http://head.xiaonei.com/photos/0/0/men_head.gif  339608116   戚戚        0   \n",
       "9  http://hdn.xnimg.cn/photos/hdn121/20131024/152...  336091847   杨锐      132   \n",
       "\n",
       "   popValue                                              query user_lively  \\\n",
       "0       486  [{\"t\":\"birt\",\"month\":\"1\",\"year\":\"1980\",\"day\":\"...         486   \n",
       "1       307  [{\"t\":\"birt\",\"month\":\"1\",\"year\":\"1980\",\"day\":\"...         307   \n",
       "2       800  [{\"t\":\"birt\",\"month\":\"1\",\"year\":\"1980\",\"day\":\"...         800   \n",
       "3      1773  [{\"t\":\"birt\",\"month\":\"1\",\"year\":\"1980\",\"day\":\"...        1773   \n",
       "4       283  [{\"t\":\"birt\",\"month\":\"1\",\"year\":\"1980\",\"day\":\"...         283   \n",
       "5       800  [{\"t\":\"birt\",\"month\":\"1\",\"year\":\"1980\",\"day\":\"...         800   \n",
       "6       266  [{\"t\":\"birt\",\"month\":\"1\",\"year\":\"1980\",\"day\":\"...         266   \n",
       "7       111  [{\"t\":\"birt\",\"month\":\"1\",\"year\":\"1980\",\"day\":\"...         111   \n",
       "8       400  [{\"t\":\"birt\",\"month\":\"1\",\"year\":\"1980\",\"day\":\"...         400   \n",
       "9       258  [{\"t\":\"birt\",\"month\":\"1\",\"year\":\"1980\",\"day\":\"...         258   \n",
       "\n",
       "   viewCount  \n",
       "0        633  \n",
       "1       2050  \n",
       "2          3  \n",
       "3       1093  \n",
       "4        215  \n",
       "5          6  \n",
       "6         56  \n",
       "7         29  \n",
       "8          2  \n",
       "9        131  "
      ]
     },
     "execution_count": 46,
     "metadata": {},
     "output_type": "execute_result"
    }
   ],
   "source": [
    "l.get(etl_count=20)"
   ]
  },
  {
   "cell_type": "code",
   "execution_count": 40,
   "metadata": {
    "collapsed": false
   },
   "outputs": [],
   "source": [
    "#%mkdir ../Hawk-Projects/人人网"
   ]
  },
  {
   "cell_type": "code",
   "execution_count": 41,
   "metadata": {
    "collapsed": false
   },
   "outputs": [],
   "source": [
    "#proj.dump_json('../Hawk-Projects/人人网/列表.json')"
   ]
  },
  {
   "cell_type": "code",
   "execution_count": 42,
   "metadata": {
    "collapsed": false
   },
   "outputs": [
    {
     "name": "stdout",
     "output_type": "stream",
     "text": [
      "current port is 8998\n",
      "server started\n",
      "exec in ipython notebook\n"
     ]
    },
    {
     "ename": "KeyboardInterrupt",
     "evalue": "",
     "output_type": "error",
     "traceback": [
      "\u001b[0;31m---------------------------------------------------------------------------\u001b[0m",
      "\u001b[0;31mKeyboardInterrupt\u001b[0m                         Traceback (most recent call last)",
      "\u001b[0;32m<ipython-input-42-f259c92d26db>\u001b[0m in \u001b[0;36m<module>\u001b[0;34m()\u001b[0m\n\u001b[0;32m----> 1\u001b[0;31m \u001b[0ml\u001b[0m\u001b[0;34m.\u001b[0m\u001b[0mdistribute\u001b[0m\u001b[0;34m(\u001b[0m\u001b[0;34m)\u001b[0m\u001b[0;34m\u001b[0m\u001b[0m\n\u001b[0m",
      "\u001b[0;32m/Users/zhaoyiming/dev/etlpy/etl.py\u001b[0m in \u001b[0;36mdistribute\u001b[0;34m(self, take, skip, port)\u001b[0m\n\u001b[1;32m   1225\u001b[0m         \u001b[0;32mimport\u001b[0m \u001b[0mdistributed\u001b[0m\u001b[0;34m\u001b[0m\u001b[0m\n\u001b[1;32m   1226\u001b[0m         \u001b[0mself\u001b[0m\u001b[0;34m.\u001b[0m\u001b[0m_master\u001b[0m\u001b[0;34m=\u001b[0m \u001b[0mdistributed\u001b[0m\u001b[0;34m.\u001b[0m\u001b[0mMaster\u001b[0m\u001b[0;34m(\u001b[0m\u001b[0mself\u001b[0m\u001b[0;34m.\u001b[0m\u001b[0m_proj\u001b[0m\u001b[0;34m,\u001b[0m\u001b[0mself\u001b[0m\u001b[0;34m.\u001b[0m\u001b[0mname\u001b[0m\u001b[0;34m)\u001b[0m\u001b[0;34m;\u001b[0m\u001b[0;34m\u001b[0m\u001b[0m\n\u001b[0;32m-> 1227\u001b[0;31m         \u001b[0mself\u001b[0m\u001b[0;34m.\u001b[0m\u001b[0m_master\u001b[0m\u001b[0;34m.\u001b[0m\u001b[0mstart\u001b[0m\u001b[0;34m(\u001b[0m\u001b[0mtake\u001b[0m\u001b[0;34m,\u001b[0m\u001b[0mskip\u001b[0m\u001b[0;34m,\u001b[0m\u001b[0mport\u001b[0m\u001b[0;34m)\u001b[0m\u001b[0;34m\u001b[0m\u001b[0m\n\u001b[0m\u001b[1;32m   1228\u001b[0m     \u001b[0;32mdef\u001b[0m \u001b[0mstop_server\u001b[0m\u001b[0;34m(\u001b[0m\u001b[0mself\u001b[0m\u001b[0;34m)\u001b[0m\u001b[0;34m:\u001b[0m\u001b[0;34m\u001b[0m\u001b[0m\n\u001b[1;32m   1229\u001b[0m         \u001b[0;32mif\u001b[0m \u001b[0mself\u001b[0m\u001b[0;34m.\u001b[0m\u001b[0m_master\u001b[0m \u001b[0;32mis\u001b[0m \u001b[0;32mNone\u001b[0m\u001b[0;34m:\u001b[0m\u001b[0;34m\u001b[0m\u001b[0m\n",
      "\u001b[0;32m/Users/zhaoyiming/dev/etlpy/distributed.py\u001b[0m in \u001b[0;36mstart\u001b[0;34m(self, take, skip, port)\u001b[0m\n\u001b[1;32m     88\u001b[0m                             \u001b[0mtask_customer\u001b[0m\u001b[0;34m.\u001b[0m\u001b[0mstart\u001b[0m\u001b[0;34m(\u001b[0m\u001b[0;34m)\u001b[0m\u001b[0;34m\u001b[0m\u001b[0m\n\u001b[1;32m     89\u001b[0m                             \u001b[0;32mwhile\u001b[0m \u001b[0;32mnot\u001b[0m \u001b[0mdispatched_jobs\u001b[0m\u001b[0;34m.\u001b[0m\u001b[0mempty\u001b[0m\u001b[0;34m(\u001b[0m\u001b[0;34m)\u001b[0m\u001b[0;34m:\u001b[0m\u001b[0;34m\u001b[0m\u001b[0m\n\u001b[0;32m---> 90\u001b[0;31m                                 \u001b[0mjob\u001b[0m \u001b[0;34m=\u001b[0m \u001b[0mfinished_jobs\u001b[0m\u001b[0;34m.\u001b[0m\u001b[0mget\u001b[0m\u001b[0;34m(\u001b[0m\u001b[0;36m60\u001b[0m\u001b[0;34m)\u001b[0m\u001b[0;34m\u001b[0m\u001b[0m\n\u001b[0m\u001b[1;32m     91\u001b[0m                                 \u001b[0mtask_customer\u001b[0m\u001b[0;34m.\u001b[0m\u001b[0madvance\u001b[0m\u001b[0;34m(\u001b[0m\u001b[0;34m)\u001b[0m\u001b[0;34m\u001b[0m\u001b[0m\n\u001b[1;32m     92\u001b[0m                                 \u001b[0;32mif\u001b[0m \u001b[0;32mnot\u001b[0m \u001b[0mextends\u001b[0m\u001b[0;34m.\u001b[0m\u001b[0mis_ipynb\u001b[0m\u001b[0;34m:\u001b[0m\u001b[0;34m\u001b[0m\u001b[0m\n",
      "\u001b[0;32m<string>\u001b[0m in \u001b[0;36mget\u001b[0;34m(self, *args, **kwds)\u001b[0m\n",
      "\u001b[0;32m/Users/zhaoyiming/anaconda/lib/python3.5/multiprocessing/managers.py\u001b[0m in \u001b[0;36m_callmethod\u001b[0;34m(self, methodname, args, kwds)\u001b[0m\n\u001b[1;32m    715\u001b[0m \u001b[0;34m\u001b[0m\u001b[0m\n\u001b[1;32m    716\u001b[0m         \u001b[0mconn\u001b[0m\u001b[0;34m.\u001b[0m\u001b[0msend\u001b[0m\u001b[0;34m(\u001b[0m\u001b[0;34m(\u001b[0m\u001b[0mself\u001b[0m\u001b[0;34m.\u001b[0m\u001b[0m_id\u001b[0m\u001b[0;34m,\u001b[0m \u001b[0mmethodname\u001b[0m\u001b[0;34m,\u001b[0m \u001b[0margs\u001b[0m\u001b[0;34m,\u001b[0m \u001b[0mkwds\u001b[0m\u001b[0;34m)\u001b[0m\u001b[0;34m)\u001b[0m\u001b[0;34m\u001b[0m\u001b[0m\n\u001b[0;32m--> 717\u001b[0;31m         \u001b[0mkind\u001b[0m\u001b[0;34m,\u001b[0m \u001b[0mresult\u001b[0m \u001b[0;34m=\u001b[0m \u001b[0mconn\u001b[0m\u001b[0;34m.\u001b[0m\u001b[0mrecv\u001b[0m\u001b[0;34m(\u001b[0m\u001b[0;34m)\u001b[0m\u001b[0;34m\u001b[0m\u001b[0m\n\u001b[0m\u001b[1;32m    718\u001b[0m \u001b[0;34m\u001b[0m\u001b[0m\n\u001b[1;32m    719\u001b[0m         \u001b[0;32mif\u001b[0m \u001b[0mkind\u001b[0m \u001b[0;34m==\u001b[0m \u001b[0;34m'#RETURN'\u001b[0m\u001b[0;34m:\u001b[0m\u001b[0;34m\u001b[0m\u001b[0m\n",
      "\u001b[0;32m/Users/zhaoyiming/anaconda/lib/python3.5/multiprocessing/connection.py\u001b[0m in \u001b[0;36mrecv\u001b[0;34m(self)\u001b[0m\n\u001b[1;32m    248\u001b[0m         \u001b[0mself\u001b[0m\u001b[0;34m.\u001b[0m\u001b[0m_check_closed\u001b[0m\u001b[0;34m(\u001b[0m\u001b[0;34m)\u001b[0m\u001b[0;34m\u001b[0m\u001b[0m\n\u001b[1;32m    249\u001b[0m         \u001b[0mself\u001b[0m\u001b[0;34m.\u001b[0m\u001b[0m_check_readable\u001b[0m\u001b[0;34m(\u001b[0m\u001b[0;34m)\u001b[0m\u001b[0;34m\u001b[0m\u001b[0m\n\u001b[0;32m--> 250\u001b[0;31m         \u001b[0mbuf\u001b[0m \u001b[0;34m=\u001b[0m \u001b[0mself\u001b[0m\u001b[0;34m.\u001b[0m\u001b[0m_recv_bytes\u001b[0m\u001b[0;34m(\u001b[0m\u001b[0;34m)\u001b[0m\u001b[0;34m\u001b[0m\u001b[0m\n\u001b[0m\u001b[1;32m    251\u001b[0m         \u001b[0;32mreturn\u001b[0m \u001b[0mForkingPickler\u001b[0m\u001b[0;34m.\u001b[0m\u001b[0mloads\u001b[0m\u001b[0;34m(\u001b[0m\u001b[0mbuf\u001b[0m\u001b[0;34m.\u001b[0m\u001b[0mgetbuffer\u001b[0m\u001b[0;34m(\u001b[0m\u001b[0;34m)\u001b[0m\u001b[0;34m)\u001b[0m\u001b[0;34m\u001b[0m\u001b[0m\n\u001b[1;32m    252\u001b[0m \u001b[0;34m\u001b[0m\u001b[0m\n",
      "\u001b[0;32m/Users/zhaoyiming/anaconda/lib/python3.5/multiprocessing/connection.py\u001b[0m in \u001b[0;36m_recv_bytes\u001b[0;34m(self, maxsize)\u001b[0m\n\u001b[1;32m    405\u001b[0m \u001b[0;34m\u001b[0m\u001b[0m\n\u001b[1;32m    406\u001b[0m     \u001b[0;32mdef\u001b[0m \u001b[0m_recv_bytes\u001b[0m\u001b[0;34m(\u001b[0m\u001b[0mself\u001b[0m\u001b[0;34m,\u001b[0m \u001b[0mmaxsize\u001b[0m\u001b[0;34m=\u001b[0m\u001b[0;32mNone\u001b[0m\u001b[0;34m)\u001b[0m\u001b[0;34m:\u001b[0m\u001b[0;34m\u001b[0m\u001b[0m\n\u001b[0;32m--> 407\u001b[0;31m         \u001b[0mbuf\u001b[0m \u001b[0;34m=\u001b[0m \u001b[0mself\u001b[0m\u001b[0;34m.\u001b[0m\u001b[0m_recv\u001b[0m\u001b[0;34m(\u001b[0m\u001b[0;36m4\u001b[0m\u001b[0;34m)\u001b[0m\u001b[0;34m\u001b[0m\u001b[0m\n\u001b[0m\u001b[1;32m    408\u001b[0m         \u001b[0msize\u001b[0m\u001b[0;34m,\u001b[0m \u001b[0;34m=\u001b[0m \u001b[0mstruct\u001b[0m\u001b[0;34m.\u001b[0m\u001b[0munpack\u001b[0m\u001b[0;34m(\u001b[0m\u001b[0;34m\"!i\"\u001b[0m\u001b[0;34m,\u001b[0m \u001b[0mbuf\u001b[0m\u001b[0;34m.\u001b[0m\u001b[0mgetvalue\u001b[0m\u001b[0;34m(\u001b[0m\u001b[0;34m)\u001b[0m\u001b[0;34m)\u001b[0m\u001b[0;34m\u001b[0m\u001b[0m\n\u001b[1;32m    409\u001b[0m         \u001b[0;32mif\u001b[0m \u001b[0mmaxsize\u001b[0m \u001b[0;32mis\u001b[0m \u001b[0;32mnot\u001b[0m \u001b[0;32mNone\u001b[0m \u001b[0;32mand\u001b[0m \u001b[0msize\u001b[0m \u001b[0;34m>\u001b[0m \u001b[0mmaxsize\u001b[0m\u001b[0;34m:\u001b[0m\u001b[0;34m\u001b[0m\u001b[0m\n",
      "\u001b[0;32m/Users/zhaoyiming/anaconda/lib/python3.5/multiprocessing/connection.py\u001b[0m in \u001b[0;36m_recv\u001b[0;34m(self, size, read)\u001b[0m\n\u001b[1;32m    377\u001b[0m         \u001b[0mremaining\u001b[0m \u001b[0;34m=\u001b[0m \u001b[0msize\u001b[0m\u001b[0;34m\u001b[0m\u001b[0m\n\u001b[1;32m    378\u001b[0m         \u001b[0;32mwhile\u001b[0m \u001b[0mremaining\u001b[0m \u001b[0;34m>\u001b[0m \u001b[0;36m0\u001b[0m\u001b[0;34m:\u001b[0m\u001b[0;34m\u001b[0m\u001b[0m\n\u001b[0;32m--> 379\u001b[0;31m             \u001b[0mchunk\u001b[0m \u001b[0;34m=\u001b[0m \u001b[0mread\u001b[0m\u001b[0;34m(\u001b[0m\u001b[0mhandle\u001b[0m\u001b[0;34m,\u001b[0m \u001b[0mremaining\u001b[0m\u001b[0;34m)\u001b[0m\u001b[0;34m\u001b[0m\u001b[0m\n\u001b[0m\u001b[1;32m    380\u001b[0m             \u001b[0mn\u001b[0m \u001b[0;34m=\u001b[0m \u001b[0mlen\u001b[0m\u001b[0;34m(\u001b[0m\u001b[0mchunk\u001b[0m\u001b[0;34m)\u001b[0m\u001b[0;34m\u001b[0m\u001b[0m\n\u001b[1;32m    381\u001b[0m             \u001b[0;32mif\u001b[0m \u001b[0mn\u001b[0m \u001b[0;34m==\u001b[0m \u001b[0;36m0\u001b[0m\u001b[0;34m:\u001b[0m\u001b[0;34m\u001b[0m\u001b[0m\n",
      "\u001b[0;31mKeyboardInterrupt\u001b[0m: "
     ]
    }
   ],
   "source": [
    "l.distribute()"
   ]
  },
  {
   "cell_type": "code",
   "execution_count": 43,
   "metadata": {
    "collapsed": false
   },
   "outputs": [],
   "source": [
    "l.stop_server()"
   ]
  },
  {
   "cell_type": "code",
   "execution_count": null,
   "metadata": {
    "collapsed": true
   },
   "outputs": [],
   "source": []
  },
  {
   "cell_type": "code",
   "execution_count": null,
   "metadata": {
    "collapsed": true
   },
   "outputs": [],
   "source": []
  }
 ],
 "metadata": {
  "kernelspec": {
   "display_name": "Python 3",
   "language": "python",
   "name": "python3"
  },
  "language_info": {
   "codemirror_mode": {
    "name": "ipython",
    "version": 3
   },
   "file_extension": ".py",
   "mimetype": "text/x-python",
   "name": "python",
   "nbconvert_exporter": "python",
   "pygments_lexer": "ipython3",
   "version": "3.5.1"
  }
 },
 "nbformat": 4,
 "nbformat_minor": 0
}
